{
 "cells": [
  {
   "cell_type": "markdown",
   "id": "sustained-celtic",
   "metadata": {},
   "source": [
    "# Setup"
   ]
  },
  {
   "cell_type": "code",
   "execution_count": 1,
   "id": "constitutional-translator",
   "metadata": {},
   "outputs": [
    {
     "name": "stderr",
     "output_type": "stream",
     "text": [
      "Updating HTML index of packages in '.Library'\n",
      "\n",
      "Making 'packages.html' ...\n",
      " done\n",
      "\n",
      "Updating HTML index of packages in '.Library'\n",
      "\n",
      "Making 'packages.html' ...\n",
      " done\n",
      "\n"
     ]
    }
   ],
   "source": [
    "suppressWarnings(install.packages('xgboost'))\n",
    "suppressWarnings(install.packages('Metrics'))"
   ]
  },
  {
   "cell_type": "code",
   "execution_count": 2,
   "id": "gentle-center",
   "metadata": {},
   "outputs": [
    {
     "name": "stderr",
     "output_type": "stream",
     "text": [
      "Warning message:\n",
      "“Your system is mis-configured: ‘/etc/localtime’ is not a symlink”\n",
      "Warning message:\n",
      "“It is strongly recommended to set envionment variable TZ to ‘Etc/UCT’ (or equivalent)”\n"
     ]
    }
   ],
   "source": [
    "suppressMessages(library(tidyverse))\n",
    "suppressMessages(library(dplyr))\n",
    "suppressMessages(library(lubridate))\n",
    "suppressMessages(library(ggplot2))\n",
    "suppressMessages(library(caret))\n",
    "suppressMessages(library(Matrix))\n",
    "suppressMessages(library(Metrics))\n",
    "suppressMessages(library(xgboost))"
   ]
  },
  {
   "cell_type": "code",
   "execution_count": 3,
   "id": "affecting-protest",
   "metadata": {},
   "outputs": [
    {
     "name": "stderr",
     "output_type": "stream",
     "text": [
      "Warning message:\n",
      "“Missing column names filled in: 'X1' [1]”\n",
      "Warning message:\n",
      "“Missing column names filled in: 'X1' [1]”\n"
     ]
    }
   ],
   "source": [
    "train <- read_csv(\"train.csv\", col_types = cols())\n",
    "histdata <- read_csv(\"historical_transactions_small.csv\", col_types = cols())\n",
    "newdata <- read_csv(\"new_merchant_transactions_small.csv\", col_types = cols())\n",
    "merchants <- read_csv(\"merchants.csv\", col_types = cols())"
   ]
  },
  {
   "cell_type": "code",
   "execution_count": 22,
   "id": "surgical-helmet",
   "metadata": {},
   "outputs": [
    {
     "data": {
      "text/html": [
       "<style>\n",
       ".list-inline {list-style: none; margin:0; padding: 0}\n",
       ".list-inline>li {display: inline-block}\n",
       ".list-inline>li:not(:last-child)::after {content: \"\\00b7\"; padding: 0 .5ex}\n",
       "</style>\n",
       "<ol class=list-inline><li>199710</li><li>6</li></ol>\n"
      ],
      "text/latex": [
       "\\begin{enumerate*}\n",
       "\\item 199710\n",
       "\\item 6\n",
       "\\end{enumerate*}\n"
      ],
      "text/markdown": [
       "1. 199710\n",
       "2. 6\n",
       "\n",
       "\n"
      ],
      "text/plain": [
       "[1] 199710      6"
      ]
     },
     "metadata": {},
     "output_type": "display_data"
    },
    {
     "data": {
      "text/html": [
       "<table class=\"dataframe\">\n",
       "<caption>A tibble: 6 × 6</caption>\n",
       "<thead>\n",
       "\t<tr><th scope=col>first_active_month</th><th scope=col>card_id</th><th scope=col>feature_1</th><th scope=col>feature_2</th><th scope=col>feature_3</th><th scope=col>target</th></tr>\n",
       "\t<tr><th scope=col>&lt;chr&gt;</th><th scope=col>&lt;chr&gt;</th><th scope=col>&lt;dbl&gt;</th><th scope=col>&lt;dbl&gt;</th><th scope=col>&lt;dbl&gt;</th><th scope=col>&lt;dbl&gt;</th></tr>\n",
       "</thead>\n",
       "<tbody>\n",
       "\t<tr><td>2017-06</td><td>C_ID_92a2005557</td><td>5</td><td>2</td><td>1</td><td>-0.8202826</td></tr>\n",
       "\t<tr><td>2017-01</td><td>C_ID_3d0044924f</td><td>4</td><td>1</td><td>0</td><td> 0.3929132</td></tr>\n",
       "\t<tr><td>2016-08</td><td>C_ID_d639edf6cd</td><td>2</td><td>2</td><td>0</td><td> 0.6880560</td></tr>\n",
       "\t<tr><td>2017-09</td><td>C_ID_186d6a6901</td><td>4</td><td>3</td><td>0</td><td> 0.1424952</td></tr>\n",
       "\t<tr><td>2017-11</td><td>C_ID_cdbd2c0db2</td><td>1</td><td>3</td><td>0</td><td>-0.1597492</td></tr>\n",
       "\t<tr><td>2016-09</td><td>C_ID_0894217f2f</td><td>4</td><td>2</td><td>0</td><td> 0.8715853</td></tr>\n",
       "</tbody>\n",
       "</table>\n"
      ],
      "text/latex": [
       "A tibble: 6 × 6\n",
       "\\begin{tabular}{llllll}\n",
       " first\\_active\\_month & card\\_id & feature\\_1 & feature\\_2 & feature\\_3 & target\\\\\n",
       " <chr> & <chr> & <dbl> & <dbl> & <dbl> & <dbl>\\\\\n",
       "\\hline\n",
       "\t 2017-06 & C\\_ID\\_92a2005557 & 5 & 2 & 1 & -0.8202826\\\\\n",
       "\t 2017-01 & C\\_ID\\_3d0044924f & 4 & 1 & 0 &  0.3929132\\\\\n",
       "\t 2016-08 & C\\_ID\\_d639edf6cd & 2 & 2 & 0 &  0.6880560\\\\\n",
       "\t 2017-09 & C\\_ID\\_186d6a6901 & 4 & 3 & 0 &  0.1424952\\\\\n",
       "\t 2017-11 & C\\_ID\\_cdbd2c0db2 & 1 & 3 & 0 & -0.1597492\\\\\n",
       "\t 2016-09 & C\\_ID\\_0894217f2f & 4 & 2 & 0 &  0.8715853\\\\\n",
       "\\end{tabular}\n"
      ],
      "text/markdown": [
       "\n",
       "A tibble: 6 × 6\n",
       "\n",
       "| first_active_month &lt;chr&gt; | card_id &lt;chr&gt; | feature_1 &lt;dbl&gt; | feature_2 &lt;dbl&gt; | feature_3 &lt;dbl&gt; | target &lt;dbl&gt; |\n",
       "|---|---|---|---|---|---|\n",
       "| 2017-06 | C_ID_92a2005557 | 5 | 2 | 1 | -0.8202826 |\n",
       "| 2017-01 | C_ID_3d0044924f | 4 | 1 | 0 |  0.3929132 |\n",
       "| 2016-08 | C_ID_d639edf6cd | 2 | 2 | 0 |  0.6880560 |\n",
       "| 2017-09 | C_ID_186d6a6901 | 4 | 3 | 0 |  0.1424952 |\n",
       "| 2017-11 | C_ID_cdbd2c0db2 | 1 | 3 | 0 | -0.1597492 |\n",
       "| 2016-09 | C_ID_0894217f2f | 4 | 2 | 0 |  0.8715853 |\n",
       "\n"
      ],
      "text/plain": [
       "  first_active_month card_id         feature_1 feature_2 feature_3 target    \n",
       "1 2017-06            C_ID_92a2005557 5         2         1         -0.8202826\n",
       "2 2017-01            C_ID_3d0044924f 4         1         0          0.3929132\n",
       "3 2016-08            C_ID_d639edf6cd 2         2         0          0.6880560\n",
       "4 2017-09            C_ID_186d6a6901 4         3         0          0.1424952\n",
       "5 2017-11            C_ID_cdbd2c0db2 1         3         0         -0.1597492\n",
       "6 2016-09            C_ID_0894217f2f 4         2         0          0.8715853"
      ]
     },
     "metadata": {},
     "output_type": "display_data"
    }
   ],
   "source": [
    "dim(train)\n",
    "head(train)"
   ]
  },
  {
   "cell_type": "code",
   "execution_count": 23,
   "id": "acceptable-camcorder",
   "metadata": {},
   "outputs": [
    {
     "data": {
      "text/html": [
       "<style>\n",
       ".list-inline {list-style: none; margin:0; padding: 0}\n",
       ".list-inline>li {display: inline-block}\n",
       ".list-inline>li:not(:last-child)::after {content: \"\\00b7\"; padding: 0 .5ex}\n",
       "</style>\n",
       "<ol class=list-inline><li>2911236</li><li>15</li></ol>\n"
      ],
      "text/latex": [
       "\\begin{enumerate*}\n",
       "\\item 2911236\n",
       "\\item 15\n",
       "\\end{enumerate*}\n"
      ],
      "text/markdown": [
       "1. 2911236\n",
       "2. 15\n",
       "\n",
       "\n"
      ],
      "text/plain": [
       "[1] 2911236      15"
      ]
     },
     "metadata": {},
     "output_type": "display_data"
    },
    {
     "data": {
      "text/html": [
       "<table class=\"dataframe\">\n",
       "<caption>A tibble: 6 × 15</caption>\n",
       "<thead>\n",
       "\t<tr><th scope=col>X1</th><th scope=col>authorized_flag</th><th scope=col>card_id</th><th scope=col>city_id</th><th scope=col>category_1</th><th scope=col>installments</th><th scope=col>category_3</th><th scope=col>merchant_category_id</th><th scope=col>merchant_id</th><th scope=col>month_lag</th><th scope=col>purchase_amount</th><th scope=col>purchase_date</th><th scope=col>category_2</th><th scope=col>state_id</th><th scope=col>subsector_id</th></tr>\n",
       "\t<tr><th scope=col>&lt;dbl&gt;</th><th scope=col>&lt;dbl&gt;</th><th scope=col>&lt;chr&gt;</th><th scope=col>&lt;dbl&gt;</th><th scope=col>&lt;chr&gt;</th><th scope=col>&lt;dbl&gt;</th><th scope=col>&lt;chr&gt;</th><th scope=col>&lt;dbl&gt;</th><th scope=col>&lt;chr&gt;</th><th scope=col>&lt;dbl&gt;</th><th scope=col>&lt;dbl&gt;</th><th scope=col>&lt;dttm&gt;</th><th scope=col>&lt;dbl&gt;</th><th scope=col>&lt;dbl&gt;</th><th scope=col>&lt;dbl&gt;</th></tr>\n",
       "</thead>\n",
       "<tbody>\n",
       "\t<tr><td>1</td><td>0</td><td>C_ID_9fb702910d</td><td> 69</td><td>N</td><td>0</td><td>A</td><td>278</td><td>M_ID_600b6035fe</td><td>-6</td><td>-0.7262013</td><td>2017-04-29 21:21:37</td><td> 1</td><td> 9</td><td>37</td></tr>\n",
       "\t<tr><td>2</td><td>0</td><td>C_ID_169c012cfa</td><td>267</td><td>N</td><td>1</td><td>B</td><td>705</td><td>M_ID_50f10cee6a</td><td>-3</td><td>-0.5821872</td><td>2017-07-15 17:09:29</td><td> 1</td><td>16</td><td>33</td></tr>\n",
       "\t<tr><td>3</td><td>0</td><td>C_ID_d4ce5c0074</td><td> 12</td><td>N</td><td>0</td><td>A</td><td>108</td><td>M_ID_a62766992f</td><td>-8</td><td>-0.6937741</td><td>2017-06-17 11:42:35</td><td> 5</td><td> 5</td><td>34</td></tr>\n",
       "\t<tr><td>4</td><td>0</td><td>C_ID_12d02f61d4</td><td> -1</td><td>Y</td><td>1</td><td>B</td><td>491</td><td>M_ID_79692349d6</td><td>-5</td><td>-0.7380421</td><td>2017-09-18 19:39:04</td><td>NA</td><td>-1</td><td> 3</td></tr>\n",
       "\t<tr><td>5</td><td>0</td><td>C_ID_40ec1f710e</td><td>206</td><td>N</td><td>0</td><td>A</td><td>437</td><td>M_ID_6129ac9479</td><td>-3</td><td>-0.7018283</td><td>2017-11-14 22:32:28</td><td> 2</td><td>23</td><td>15</td></tr>\n",
       "\t<tr><td>6</td><td>0</td><td>C_ID_6e504c2959</td><td> 69</td><td>N</td><td>0</td><td>A</td><td>683</td><td>M_ID_36f9e41993</td><td>-2</td><td>-0.6523910</td><td>2017-12-27 21:22:32</td><td> 1</td><td> 9</td><td>34</td></tr>\n",
       "</tbody>\n",
       "</table>\n"
      ],
      "text/latex": [
       "A tibble: 6 × 15\n",
       "\\begin{tabular}{lllllllllllllll}\n",
       " X1 & authorized\\_flag & card\\_id & city\\_id & category\\_1 & installments & category\\_3 & merchant\\_category\\_id & merchant\\_id & month\\_lag & purchase\\_amount & purchase\\_date & category\\_2 & state\\_id & subsector\\_id\\\\\n",
       " <dbl> & <dbl> & <chr> & <dbl> & <chr> & <dbl> & <chr> & <dbl> & <chr> & <dbl> & <dbl> & <dttm> & <dbl> & <dbl> & <dbl>\\\\\n",
       "\\hline\n",
       "\t 1 & 0 & C\\_ID\\_9fb702910d &  69 & N & 0 & A & 278 & M\\_ID\\_600b6035fe & -6 & -0.7262013 & 2017-04-29 21:21:37 &  1 &  9 & 37\\\\\n",
       "\t 2 & 0 & C\\_ID\\_169c012cfa & 267 & N & 1 & B & 705 & M\\_ID\\_50f10cee6a & -3 & -0.5821872 & 2017-07-15 17:09:29 &  1 & 16 & 33\\\\\n",
       "\t 3 & 0 & C\\_ID\\_d4ce5c0074 &  12 & N & 0 & A & 108 & M\\_ID\\_a62766992f & -8 & -0.6937741 & 2017-06-17 11:42:35 &  5 &  5 & 34\\\\\n",
       "\t 4 & 0 & C\\_ID\\_12d02f61d4 &  -1 & Y & 1 & B & 491 & M\\_ID\\_79692349d6 & -5 & -0.7380421 & 2017-09-18 19:39:04 & NA & -1 &  3\\\\\n",
       "\t 5 & 0 & C\\_ID\\_40ec1f710e & 206 & N & 0 & A & 437 & M\\_ID\\_6129ac9479 & -3 & -0.7018283 & 2017-11-14 22:32:28 &  2 & 23 & 15\\\\\n",
       "\t 6 & 0 & C\\_ID\\_6e504c2959 &  69 & N & 0 & A & 683 & M\\_ID\\_36f9e41993 & -2 & -0.6523910 & 2017-12-27 21:22:32 &  1 &  9 & 34\\\\\n",
       "\\end{tabular}\n"
      ],
      "text/markdown": [
       "\n",
       "A tibble: 6 × 15\n",
       "\n",
       "| X1 &lt;dbl&gt; | authorized_flag &lt;dbl&gt; | card_id &lt;chr&gt; | city_id &lt;dbl&gt; | category_1 &lt;chr&gt; | installments &lt;dbl&gt; | category_3 &lt;chr&gt; | merchant_category_id &lt;dbl&gt; | merchant_id &lt;chr&gt; | month_lag &lt;dbl&gt; | purchase_amount &lt;dbl&gt; | purchase_date &lt;dttm&gt; | category_2 &lt;dbl&gt; | state_id &lt;dbl&gt; | subsector_id &lt;dbl&gt; |\n",
       "|---|---|---|---|---|---|---|---|---|---|---|---|---|---|---|\n",
       "| 1 | 0 | C_ID_9fb702910d |  69 | N | 0 | A | 278 | M_ID_600b6035fe | -6 | -0.7262013 | 2017-04-29 21:21:37 |  1 |  9 | 37 |\n",
       "| 2 | 0 | C_ID_169c012cfa | 267 | N | 1 | B | 705 | M_ID_50f10cee6a | -3 | -0.5821872 | 2017-07-15 17:09:29 |  1 | 16 | 33 |\n",
       "| 3 | 0 | C_ID_d4ce5c0074 |  12 | N | 0 | A | 108 | M_ID_a62766992f | -8 | -0.6937741 | 2017-06-17 11:42:35 |  5 |  5 | 34 |\n",
       "| 4 | 0 | C_ID_12d02f61d4 |  -1 | Y | 1 | B | 491 | M_ID_79692349d6 | -5 | -0.7380421 | 2017-09-18 19:39:04 | NA | -1 |  3 |\n",
       "| 5 | 0 | C_ID_40ec1f710e | 206 | N | 0 | A | 437 | M_ID_6129ac9479 | -3 | -0.7018283 | 2017-11-14 22:32:28 |  2 | 23 | 15 |\n",
       "| 6 | 0 | C_ID_6e504c2959 |  69 | N | 0 | A | 683 | M_ID_36f9e41993 | -2 | -0.6523910 | 2017-12-27 21:22:32 |  1 |  9 | 34 |\n",
       "\n"
      ],
      "text/plain": [
       "  X1 authorized_flag card_id         city_id category_1 installments category_3\n",
       "1 1  0               C_ID_9fb702910d  69     N          0            A         \n",
       "2 2  0               C_ID_169c012cfa 267     N          1            B         \n",
       "3 3  0               C_ID_d4ce5c0074  12     N          0            A         \n",
       "4 4  0               C_ID_12d02f61d4  -1     Y          1            B         \n",
       "5 5  0               C_ID_40ec1f710e 206     N          0            A         \n",
       "6 6  0               C_ID_6e504c2959  69     N          0            A         \n",
       "  merchant_category_id merchant_id     month_lag purchase_amount\n",
       "1 278                  M_ID_600b6035fe -6        -0.7262013     \n",
       "2 705                  M_ID_50f10cee6a -3        -0.5821872     \n",
       "3 108                  M_ID_a62766992f -8        -0.6937741     \n",
       "4 491                  M_ID_79692349d6 -5        -0.7380421     \n",
       "5 437                  M_ID_6129ac9479 -3        -0.7018283     \n",
       "6 683                  M_ID_36f9e41993 -2        -0.6523910     \n",
       "  purchase_date       category_2 state_id subsector_id\n",
       "1 2017-04-29 21:21:37  1          9       37          \n",
       "2 2017-07-15 17:09:29  1         16       33          \n",
       "3 2017-06-17 11:42:35  5          5       34          \n",
       "4 2017-09-18 19:39:04 NA         -1        3          \n",
       "5 2017-11-14 22:32:28  2         23       15          \n",
       "6 2017-12-27 21:22:32  1          9       34          "
      ]
     },
     "metadata": {},
     "output_type": "display_data"
    }
   ],
   "source": [
    "dim(histdata)\n",
    "head(histdata)"
   ]
  },
  {
   "cell_type": "code",
   "execution_count": 24,
   "id": "working-stamp",
   "metadata": {},
   "outputs": [
    {
     "data": {
      "text/html": [
       "<style>\n",
       ".list-inline {list-style: none; margin:0; padding: 0}\n",
       ".list-inline>li {display: inline-block}\n",
       ".list-inline>li:not(:last-child)::after {content: \"\\00b7\"; padding: 0 .5ex}\n",
       "</style>\n",
       "<ol class=list-inline><li>196303</li><li>15</li></ol>\n"
      ],
      "text/latex": [
       "\\begin{enumerate*}\n",
       "\\item 196303\n",
       "\\item 15\n",
       "\\end{enumerate*}\n"
      ],
      "text/markdown": [
       "1. 196303\n",
       "2. 15\n",
       "\n",
       "\n"
      ],
      "text/plain": [
       "[1] 196303     15"
      ]
     },
     "metadata": {},
     "output_type": "display_data"
    },
    {
     "data": {
      "text/html": [
       "<table class=\"dataframe\">\n",
       "<caption>A tibble: 6 × 15</caption>\n",
       "<thead>\n",
       "\t<tr><th scope=col>X1</th><th scope=col>authorized_flag</th><th scope=col>card_id</th><th scope=col>city_id</th><th scope=col>category_1</th><th scope=col>installments</th><th scope=col>category_3</th><th scope=col>merchant_category_id</th><th scope=col>merchant_id</th><th scope=col>month_lag</th><th scope=col>purchase_amount</th><th scope=col>purchase_date</th><th scope=col>category_2</th><th scope=col>state_id</th><th scope=col>subsector_id</th></tr>\n",
       "\t<tr><th scope=col>&lt;dbl&gt;</th><th scope=col>&lt;chr&gt;</th><th scope=col>&lt;chr&gt;</th><th scope=col>&lt;dbl&gt;</th><th scope=col>&lt;chr&gt;</th><th scope=col>&lt;dbl&gt;</th><th scope=col>&lt;chr&gt;</th><th scope=col>&lt;dbl&gt;</th><th scope=col>&lt;chr&gt;</th><th scope=col>&lt;dbl&gt;</th><th scope=col>&lt;dbl&gt;</th><th scope=col>&lt;dttm&gt;</th><th scope=col>&lt;dbl&gt;</th><th scope=col>&lt;dbl&gt;</th><th scope=col>&lt;dbl&gt;</th></tr>\n",
       "</thead>\n",
       "<tbody>\n",
       "\t<tr><td>1</td><td>Y</td><td>C_ID_42478ab598</td><td> 21</td><td>N</td><td>0</td><td>A</td><td>560</td><td>M_ID_562baba17e</td><td>2</td><td>-0.6297010</td><td>2018-04-16 19:10:43</td><td> 1</td><td> 9</td><td>34</td></tr>\n",
       "\t<tr><td>2</td><td>Y</td><td>C_ID_4a13b2a14b</td><td> -1</td><td>Y</td><td>1</td><td>B</td><td>302</td><td>M_ID_b9f9332438</td><td>2</td><td>-0.7450595</td><td>2018-02-05 11:28:24</td><td>NA</td><td>-1</td><td>22</td></tr>\n",
       "\t<tr><td>3</td><td>Y</td><td>C_ID_10c5a8db69</td><td>179</td><td>N</td><td>1</td><td>B</td><td>842</td><td>M_ID_14e3ff6bdc</td><td>2</td><td>-0.7303786</td><td>2018-04-23 13:47:19</td><td>NA</td><td>-1</td><td>37</td></tr>\n",
       "\t<tr><td>4</td><td>Y</td><td>C_ID_81462512fa</td><td>171</td><td>N</td><td>1</td><td>B</td><td>278</td><td>M_ID_de7e1c24b5</td><td>2</td><td>-0.7072378</td><td>2018-04-21 14:15:58</td><td> 5</td><td>21</td><td>37</td></tr>\n",
       "\t<tr><td>5</td><td>Y</td><td>C_ID_3c6f508e21</td><td>158</td><td>N</td><td>1</td><td>B</td><td>511</td><td>M_ID_c58f22922e</td><td>1</td><td>-0.6266957</td><td>2017-07-13 16:45:21</td><td> 1</td><td>15</td><td> 7</td></tr>\n",
       "\t<tr><td>6</td><td>Y</td><td>C_ID_845659d13c</td><td> 69</td><td>N</td><td>2</td><td>C</td><td> 87</td><td>M_ID_a82ce408f0</td><td>2</td><td>-0.6131718</td><td>2018-04-15 16:36:13</td><td> 1</td><td> 9</td><td>27</td></tr>\n",
       "</tbody>\n",
       "</table>\n"
      ],
      "text/latex": [
       "A tibble: 6 × 15\n",
       "\\begin{tabular}{lllllllllllllll}\n",
       " X1 & authorized\\_flag & card\\_id & city\\_id & category\\_1 & installments & category\\_3 & merchant\\_category\\_id & merchant\\_id & month\\_lag & purchase\\_amount & purchase\\_date & category\\_2 & state\\_id & subsector\\_id\\\\\n",
       " <dbl> & <chr> & <chr> & <dbl> & <chr> & <dbl> & <chr> & <dbl> & <chr> & <dbl> & <dbl> & <dttm> & <dbl> & <dbl> & <dbl>\\\\\n",
       "\\hline\n",
       "\t 1 & Y & C\\_ID\\_42478ab598 &  21 & N & 0 & A & 560 & M\\_ID\\_562baba17e & 2 & -0.6297010 & 2018-04-16 19:10:43 &  1 &  9 & 34\\\\\n",
       "\t 2 & Y & C\\_ID\\_4a13b2a14b &  -1 & Y & 1 & B & 302 & M\\_ID\\_b9f9332438 & 2 & -0.7450595 & 2018-02-05 11:28:24 & NA & -1 & 22\\\\\n",
       "\t 3 & Y & C\\_ID\\_10c5a8db69 & 179 & N & 1 & B & 842 & M\\_ID\\_14e3ff6bdc & 2 & -0.7303786 & 2018-04-23 13:47:19 & NA & -1 & 37\\\\\n",
       "\t 4 & Y & C\\_ID\\_81462512fa & 171 & N & 1 & B & 278 & M\\_ID\\_de7e1c24b5 & 2 & -0.7072378 & 2018-04-21 14:15:58 &  5 & 21 & 37\\\\\n",
       "\t 5 & Y & C\\_ID\\_3c6f508e21 & 158 & N & 1 & B & 511 & M\\_ID\\_c58f22922e & 1 & -0.6266957 & 2017-07-13 16:45:21 &  1 & 15 &  7\\\\\n",
       "\t 6 & Y & C\\_ID\\_845659d13c &  69 & N & 2 & C &  87 & M\\_ID\\_a82ce408f0 & 2 & -0.6131718 & 2018-04-15 16:36:13 &  1 &  9 & 27\\\\\n",
       "\\end{tabular}\n"
      ],
      "text/markdown": [
       "\n",
       "A tibble: 6 × 15\n",
       "\n",
       "| X1 &lt;dbl&gt; | authorized_flag &lt;chr&gt; | card_id &lt;chr&gt; | city_id &lt;dbl&gt; | category_1 &lt;chr&gt; | installments &lt;dbl&gt; | category_3 &lt;chr&gt; | merchant_category_id &lt;dbl&gt; | merchant_id &lt;chr&gt; | month_lag &lt;dbl&gt; | purchase_amount &lt;dbl&gt; | purchase_date &lt;dttm&gt; | category_2 &lt;dbl&gt; | state_id &lt;dbl&gt; | subsector_id &lt;dbl&gt; |\n",
       "|---|---|---|---|---|---|---|---|---|---|---|---|---|---|---|\n",
       "| 1 | Y | C_ID_42478ab598 |  21 | N | 0 | A | 560 | M_ID_562baba17e | 2 | -0.6297010 | 2018-04-16 19:10:43 |  1 |  9 | 34 |\n",
       "| 2 | Y | C_ID_4a13b2a14b |  -1 | Y | 1 | B | 302 | M_ID_b9f9332438 | 2 | -0.7450595 | 2018-02-05 11:28:24 | NA | -1 | 22 |\n",
       "| 3 | Y | C_ID_10c5a8db69 | 179 | N | 1 | B | 842 | M_ID_14e3ff6bdc | 2 | -0.7303786 | 2018-04-23 13:47:19 | NA | -1 | 37 |\n",
       "| 4 | Y | C_ID_81462512fa | 171 | N | 1 | B | 278 | M_ID_de7e1c24b5 | 2 | -0.7072378 | 2018-04-21 14:15:58 |  5 | 21 | 37 |\n",
       "| 5 | Y | C_ID_3c6f508e21 | 158 | N | 1 | B | 511 | M_ID_c58f22922e | 1 | -0.6266957 | 2017-07-13 16:45:21 |  1 | 15 |  7 |\n",
       "| 6 | Y | C_ID_845659d13c |  69 | N | 2 | C |  87 | M_ID_a82ce408f0 | 2 | -0.6131718 | 2018-04-15 16:36:13 |  1 |  9 | 27 |\n",
       "\n"
      ],
      "text/plain": [
       "  X1 authorized_flag card_id         city_id category_1 installments category_3\n",
       "1 1  Y               C_ID_42478ab598  21     N          0            A         \n",
       "2 2  Y               C_ID_4a13b2a14b  -1     Y          1            B         \n",
       "3 3  Y               C_ID_10c5a8db69 179     N          1            B         \n",
       "4 4  Y               C_ID_81462512fa 171     N          1            B         \n",
       "5 5  Y               C_ID_3c6f508e21 158     N          1            B         \n",
       "6 6  Y               C_ID_845659d13c  69     N          2            C         \n",
       "  merchant_category_id merchant_id     month_lag purchase_amount\n",
       "1 560                  M_ID_562baba17e 2         -0.6297010     \n",
       "2 302                  M_ID_b9f9332438 2         -0.7450595     \n",
       "3 842                  M_ID_14e3ff6bdc 2         -0.7303786     \n",
       "4 278                  M_ID_de7e1c24b5 2         -0.7072378     \n",
       "5 511                  M_ID_c58f22922e 1         -0.6266957     \n",
       "6  87                  M_ID_a82ce408f0 2         -0.6131718     \n",
       "  purchase_date       category_2 state_id subsector_id\n",
       "1 2018-04-16 19:10:43  1          9       34          \n",
       "2 2018-02-05 11:28:24 NA         -1       22          \n",
       "3 2018-04-23 13:47:19 NA         -1       37          \n",
       "4 2018-04-21 14:15:58  5         21       37          \n",
       "5 2017-07-13 16:45:21  1         15        7          \n",
       "6 2018-04-15 16:36:13  1          9       27          "
      ]
     },
     "metadata": {},
     "output_type": "display_data"
    }
   ],
   "source": [
    "dim(newdata)\n",
    "head(newdata)"
   ]
  },
  {
   "cell_type": "code",
   "execution_count": 25,
   "id": "comic-broadcasting",
   "metadata": {},
   "outputs": [
    {
     "data": {
      "text/html": [
       "<style>\n",
       ".list-inline {list-style: none; margin:0; padding: 0}\n",
       ".list-inline>li {display: inline-block}\n",
       ".list-inline>li:not(:last-child)::after {content: \"\\00b7\"; padding: 0 .5ex}\n",
       "</style>\n",
       "<ol class=list-inline><li>334696</li><li>22</li></ol>\n"
      ],
      "text/latex": [
       "\\begin{enumerate*}\n",
       "\\item 334696\n",
       "\\item 22\n",
       "\\end{enumerate*}\n"
      ],
      "text/markdown": [
       "1. 334696\n",
       "2. 22\n",
       "\n",
       "\n"
      ],
      "text/plain": [
       "[1] 334696     22"
      ]
     },
     "metadata": {},
     "output_type": "display_data"
    },
    {
     "data": {
      "text/html": [
       "<table class=\"dataframe\">\n",
       "<caption>A tibble: 6 × 22</caption>\n",
       "<thead>\n",
       "\t<tr><th scope=col>merchant_id</th><th scope=col>merchant_group_id</th><th scope=col>merchant_category_id</th><th scope=col>subsector_id</th><th scope=col>numerical_1</th><th scope=col>numerical_2</th><th scope=col>category_1</th><th scope=col>most_recent_sales_range</th><th scope=col>most_recent_purchases_range</th><th scope=col>avg_sales_lag3</th><th scope=col>⋯</th><th scope=col>avg_sales_lag6</th><th scope=col>avg_purchases_lag6</th><th scope=col>active_months_lag6</th><th scope=col>avg_sales_lag12</th><th scope=col>avg_purchases_lag12</th><th scope=col>active_months_lag12</th><th scope=col>category_4</th><th scope=col>city_id</th><th scope=col>state_id</th><th scope=col>category_2</th></tr>\n",
       "\t<tr><th scope=col>&lt;chr&gt;</th><th scope=col>&lt;dbl&gt;</th><th scope=col>&lt;dbl&gt;</th><th scope=col>&lt;dbl&gt;</th><th scope=col>&lt;dbl&gt;</th><th scope=col>&lt;dbl&gt;</th><th scope=col>&lt;chr&gt;</th><th scope=col>&lt;chr&gt;</th><th scope=col>&lt;chr&gt;</th><th scope=col>&lt;dbl&gt;</th><th scope=col>⋯</th><th scope=col>&lt;dbl&gt;</th><th scope=col>&lt;dbl&gt;</th><th scope=col>&lt;dbl&gt;</th><th scope=col>&lt;dbl&gt;</th><th scope=col>&lt;dbl&gt;</th><th scope=col>&lt;dbl&gt;</th><th scope=col>&lt;chr&gt;</th><th scope=col>&lt;dbl&gt;</th><th scope=col>&lt;dbl&gt;</th><th scope=col>&lt;dbl&gt;</th></tr>\n",
       "</thead>\n",
       "<tbody>\n",
       "\t<tr><td>M_ID_838061e48c</td><td> 8353</td><td>792</td><td> 9</td><td>-0.05747065</td><td>-0.05747065</td><td>N</td><td>E</td><td>E</td><td> -0.40</td><td>⋯</td><td> -2.25</td><td> 18.6666667</td><td>6</td><td> -2.32</td><td> 13.9166667</td><td>12</td><td>N</td><td>242</td><td> 9</td><td> 1</td></tr>\n",
       "\t<tr><td>M_ID_9339d880ad</td><td> 3184</td><td>840</td><td>20</td><td>-0.05747065</td><td>-0.05747065</td><td>N</td><td>E</td><td>E</td><td> -0.72</td><td>⋯</td><td> -0.74</td><td>  1.2916667</td><td>6</td><td> -0.57</td><td>  1.6875000</td><td>12</td><td>N</td><td> 22</td><td>16</td><td> 1</td></tr>\n",
       "\t<tr><td>M_ID_e726bbae1e</td><td>  447</td><td>690</td><td> 1</td><td>-0.05747065</td><td>-0.05747065</td><td>N</td><td>E</td><td>E</td><td>-82.13</td><td>⋯</td><td>-82.13</td><td>260.0000000</td><td>2</td><td>-82.13</td><td>260.0000000</td><td> 2</td><td>N</td><td> -1</td><td> 5</td><td> 5</td></tr>\n",
       "\t<tr><td>M_ID_a70e9c5f81</td><td> 5026</td><td>792</td><td> 9</td><td>-0.05747065</td><td>-0.05747065</td><td>Y</td><td>E</td><td>E</td><td>    NA</td><td>⋯</td><td>    NA</td><td>  4.6666667</td><td>6</td><td>    NA</td><td>  3.8333333</td><td>12</td><td>Y</td><td> -1</td><td>-1</td><td>NA</td></tr>\n",
       "\t<tr><td>M_ID_64456c37ce</td><td> 2228</td><td>222</td><td>21</td><td>-0.05747065</td><td>-0.05747065</td><td>Y</td><td>E</td><td>E</td><td>    NA</td><td>⋯</td><td>    NA</td><td>  0.3611111</td><td>6</td><td>    NA</td><td>  0.3472222</td><td>12</td><td>Y</td><td> -1</td><td>-1</td><td>NA</td></tr>\n",
       "\t<tr><td>M_ID_a0915f62b5</td><td>20201</td><td> 87</td><td>27</td><td>-0.05747065</td><td>-0.05747065</td><td>N</td><td>E</td><td>E</td><td>    NA</td><td>⋯</td><td>    NA</td><td>  3.6666667</td><td>6</td><td>    NA</td><td>  3.8333333</td><td>12</td><td>Y</td><td>160</td><td>21</td><td> 5</td></tr>\n",
       "</tbody>\n",
       "</table>\n"
      ],
      "text/latex": [
       "A tibble: 6 × 22\n",
       "\\begin{tabular}{lllllllllllllllllllll}\n",
       " merchant\\_id & merchant\\_group\\_id & merchant\\_category\\_id & subsector\\_id & numerical\\_1 & numerical\\_2 & category\\_1 & most\\_recent\\_sales\\_range & most\\_recent\\_purchases\\_range & avg\\_sales\\_lag3 & ⋯ & avg\\_sales\\_lag6 & avg\\_purchases\\_lag6 & active\\_months\\_lag6 & avg\\_sales\\_lag12 & avg\\_purchases\\_lag12 & active\\_months\\_lag12 & category\\_4 & city\\_id & state\\_id & category\\_2\\\\\n",
       " <chr> & <dbl> & <dbl> & <dbl> & <dbl> & <dbl> & <chr> & <chr> & <chr> & <dbl> & ⋯ & <dbl> & <dbl> & <dbl> & <dbl> & <dbl> & <dbl> & <chr> & <dbl> & <dbl> & <dbl>\\\\\n",
       "\\hline\n",
       "\t M\\_ID\\_838061e48c &  8353 & 792 &  9 & -0.05747065 & -0.05747065 & N & E & E &  -0.40 & ⋯ &  -2.25 &  18.6666667 & 6 &  -2.32 &  13.9166667 & 12 & N & 242 &  9 &  1\\\\\n",
       "\t M\\_ID\\_9339d880ad &  3184 & 840 & 20 & -0.05747065 & -0.05747065 & N & E & E &  -0.72 & ⋯ &  -0.74 &   1.2916667 & 6 &  -0.57 &   1.6875000 & 12 & N &  22 & 16 &  1\\\\\n",
       "\t M\\_ID\\_e726bbae1e &   447 & 690 &  1 & -0.05747065 & -0.05747065 & N & E & E & -82.13 & ⋯ & -82.13 & 260.0000000 & 2 & -82.13 & 260.0000000 &  2 & N &  -1 &  5 &  5\\\\\n",
       "\t M\\_ID\\_a70e9c5f81 &  5026 & 792 &  9 & -0.05747065 & -0.05747065 & Y & E & E &     NA & ⋯ &     NA &   4.6666667 & 6 &     NA &   3.8333333 & 12 & Y &  -1 & -1 & NA\\\\\n",
       "\t M\\_ID\\_64456c37ce &  2228 & 222 & 21 & -0.05747065 & -0.05747065 & Y & E & E &     NA & ⋯ &     NA &   0.3611111 & 6 &     NA &   0.3472222 & 12 & Y &  -1 & -1 & NA\\\\\n",
       "\t M\\_ID\\_a0915f62b5 & 20201 &  87 & 27 & -0.05747065 & -0.05747065 & N & E & E &     NA & ⋯ &     NA &   3.6666667 & 6 &     NA &   3.8333333 & 12 & Y & 160 & 21 &  5\\\\\n",
       "\\end{tabular}\n"
      ],
      "text/markdown": [
       "\n",
       "A tibble: 6 × 22\n",
       "\n",
       "| merchant_id &lt;chr&gt; | merchant_group_id &lt;dbl&gt; | merchant_category_id &lt;dbl&gt; | subsector_id &lt;dbl&gt; | numerical_1 &lt;dbl&gt; | numerical_2 &lt;dbl&gt; | category_1 &lt;chr&gt; | most_recent_sales_range &lt;chr&gt; | most_recent_purchases_range &lt;chr&gt; | avg_sales_lag3 &lt;dbl&gt; | ⋯ ⋯ | avg_sales_lag6 &lt;dbl&gt; | avg_purchases_lag6 &lt;dbl&gt; | active_months_lag6 &lt;dbl&gt; | avg_sales_lag12 &lt;dbl&gt; | avg_purchases_lag12 &lt;dbl&gt; | active_months_lag12 &lt;dbl&gt; | category_4 &lt;chr&gt; | city_id &lt;dbl&gt; | state_id &lt;dbl&gt; | category_2 &lt;dbl&gt; |\n",
       "|---|---|---|---|---|---|---|---|---|---|---|---|---|---|---|---|---|---|---|---|---|\n",
       "| M_ID_838061e48c |  8353 | 792 |  9 | -0.05747065 | -0.05747065 | N | E | E |  -0.40 | ⋯ |  -2.25 |  18.6666667 | 6 |  -2.32 |  13.9166667 | 12 | N | 242 |  9 |  1 |\n",
       "| M_ID_9339d880ad |  3184 | 840 | 20 | -0.05747065 | -0.05747065 | N | E | E |  -0.72 | ⋯ |  -0.74 |   1.2916667 | 6 |  -0.57 |   1.6875000 | 12 | N |  22 | 16 |  1 |\n",
       "| M_ID_e726bbae1e |   447 | 690 |  1 | -0.05747065 | -0.05747065 | N | E | E | -82.13 | ⋯ | -82.13 | 260.0000000 | 2 | -82.13 | 260.0000000 |  2 | N |  -1 |  5 |  5 |\n",
       "| M_ID_a70e9c5f81 |  5026 | 792 |  9 | -0.05747065 | -0.05747065 | Y | E | E |     NA | ⋯ |     NA |   4.6666667 | 6 |     NA |   3.8333333 | 12 | Y |  -1 | -1 | NA |\n",
       "| M_ID_64456c37ce |  2228 | 222 | 21 | -0.05747065 | -0.05747065 | Y | E | E |     NA | ⋯ |     NA |   0.3611111 | 6 |     NA |   0.3472222 | 12 | Y |  -1 | -1 | NA |\n",
       "| M_ID_a0915f62b5 | 20201 |  87 | 27 | -0.05747065 | -0.05747065 | N | E | E |     NA | ⋯ |     NA |   3.6666667 | 6 |     NA |   3.8333333 | 12 | Y | 160 | 21 |  5 |\n",
       "\n"
      ],
      "text/plain": [
       "  merchant_id     merchant_group_id merchant_category_id subsector_id\n",
       "1 M_ID_838061e48c  8353             792                   9          \n",
       "2 M_ID_9339d880ad  3184             840                  20          \n",
       "3 M_ID_e726bbae1e   447             690                   1          \n",
       "4 M_ID_a70e9c5f81  5026             792                   9          \n",
       "5 M_ID_64456c37ce  2228             222                  21          \n",
       "6 M_ID_a0915f62b5 20201              87                  27          \n",
       "  numerical_1 numerical_2 category_1 most_recent_sales_range\n",
       "1 -0.05747065 -0.05747065 N          E                      \n",
       "2 -0.05747065 -0.05747065 N          E                      \n",
       "3 -0.05747065 -0.05747065 N          E                      \n",
       "4 -0.05747065 -0.05747065 Y          E                      \n",
       "5 -0.05747065 -0.05747065 Y          E                      \n",
       "6 -0.05747065 -0.05747065 N          E                      \n",
       "  most_recent_purchases_range avg_sales_lag3 ⋯ avg_sales_lag6\n",
       "1 E                            -0.40         ⋯  -2.25        \n",
       "2 E                            -0.72         ⋯  -0.74        \n",
       "3 E                           -82.13         ⋯ -82.13        \n",
       "4 E                               NA         ⋯     NA        \n",
       "5 E                               NA         ⋯     NA        \n",
       "6 E                               NA         ⋯     NA        \n",
       "  avg_purchases_lag6 active_months_lag6 avg_sales_lag12 avg_purchases_lag12\n",
       "1  18.6666667        6                   -2.32           13.9166667        \n",
       "2   1.2916667        6                   -0.57            1.6875000        \n",
       "3 260.0000000        2                  -82.13          260.0000000        \n",
       "4   4.6666667        6                      NA            3.8333333        \n",
       "5   0.3611111        6                      NA            0.3472222        \n",
       "6   3.6666667        6                      NA            3.8333333        \n",
       "  active_months_lag12 category_4 city_id state_id category_2\n",
       "1 12                  N          242      9        1        \n",
       "2 12                  N           22     16        1        \n",
       "3  2                  N           -1      5        5        \n",
       "4 12                  Y           -1     -1       NA        \n",
       "5 12                  Y           -1     -1       NA        \n",
       "6 12                  Y          160     21        5        "
      ]
     },
     "metadata": {},
     "output_type": "display_data"
    }
   ],
   "source": [
    "dim(merchants)\n",
    "head(merchants)"
   ]
  },
  {
   "cell_type": "markdown",
   "id": "varying-morrison",
   "metadata": {},
   "source": [
    "### Explore"
   ]
  },
  {
   "cell_type": "code",
   "execution_count": 4,
   "id": "suspected-college",
   "metadata": {},
   "outputs": [
    {
     "data": {
      "text/plain": [
       "     Min.   1st Qu.    Median      Mean   3rd Qu.      Max. \n",
       "-33.21928  -0.88311  -0.02344  -0.39364   0.76545  17.96507 "
      ]
     },
     "metadata": {},
     "output_type": "display_data"
    },
    {
     "data": {
      "image/png": "[encoded data removed]",
      "text/plain": [
       "Plot with title “Train_target Distribution”"
      ]
     },
     "metadata": {
      "image/png": {
       "height": 420,
       "width": 420
      }
     },
     "output_type": "display_data"
    }
   ],
   "source": [
    "# train target\n",
    "summary(train$target)\n",
    "\n",
    "# plot distribution\n",
    "hist(train$target, breaks=100, freq=FALSE, col=\"lightgray\", main=\"Train_target Distribution\")"
   ]
  },
  {
   "cell_type": "markdown",
   "id": "smaller-fifteen",
   "metadata": {},
   "source": [
    "### Remove Outliers"
   ]
  },
  {
   "cell_type": "code",
   "execution_count": 5,
   "id": "threatened-burden",
   "metadata": {},
   "outputs": [],
   "source": [
    "train <- filter(train, target > (-30))"
   ]
  },
  {
   "cell_type": "markdown",
   "id": "advised-helicopter",
   "metadata": {},
   "source": [
    "# Featrue Selection"
   ]
  },
  {
   "cell_type": "markdown",
   "id": "quantitative-chest",
   "metadata": {},
   "source": [
    "### historical transaction data"
   ]
  },
  {
   "cell_type": "markdown",
   "id": "registered-pakistan",
   "metadata": {},
   "source": [
    "#### Convert categorical features"
   ]
  },
  {
   "cell_type": "code",
   "execution_count": 26,
   "id": "weird-segment",
   "metadata": {},
   "outputs": [
    {
     "data": {
      "text/plain": [
       "\n",
       "      N       Y \n",
       "2703478  207758 "
      ]
     },
     "metadata": {},
     "output_type": "display_data"
    },
    {
     "data": {
      "text/plain": [
       "\n",
       "      1       2       3       4       5 \n",
       "1518080  102669  391882  261984  372319 "
      ]
     },
     "metadata": {},
     "output_type": "display_data"
    },
    {
     "data": {
      "text/plain": [
       "\n",
       "      A       B       C \n",
       "1541626 1167687  184237 "
      ]
     },
     "metadata": {},
     "output_type": "display_data"
    }
   ],
   "source": [
    "table(histdata$category_1)\n",
    "table(histdata$category_2)\n",
    "table(histdata$category_3)"
   ]
  },
  {
   "attachments": {
    "image.png": {
     "image/png": "[encoded data removed]"
    }
   },
   "cell_type": "markdown",
   "id": "handmade-insurance",
   "metadata": {},
   "source": [
    "![image.png](attachment:image.png)"
   ]
  },
  {
   "cell_type": "code",
   "execution_count": 6,
   "id": "caroline-citizenship",
   "metadata": {},
   "outputs": [
    {
     "name": "stderr",
     "output_type": "stream",
     "text": [
      "`summarise()` has grouped output by 'card_id'. You can override using the `.groups` argument.\n",
      "\n",
      "`summarise()` has grouped output by 'card_id'. You can override using the `.groups` argument.\n",
      "\n",
      "`summarise()` has grouped output by 'card_id'. You can override using the `.groups` argument.\n",
      "\n"
     ]
    }
   ],
   "source": [
    "# histdata category\n",
    "hist_cat1 <- histdata %>% group_by(card_id,category_1) %>% \n",
    "        summarize(count=n())%>%\n",
    "        spread(key=category_1, value=count)\n",
    "# card_id, # of category_1==Y, # of category_1==N\n",
    "\n",
    "hist_cat2 <- histdata %>% group_by(card_id,category_2) %>% \n",
    "        summarize(count=n())%>%\n",
    "        spread(key=category_2, value=count)\n",
    "# card_id, # of category_2==1, # of category_2==2,...\n",
    "\n",
    "hist_cat3 <- histdata %>% group_by(card_id,category_3) %>% \n",
    "        summarize(count=n())%>%\n",
    "        spread(key=category_3, value=count)\n",
    "# card_id, # of category_3==A, # of category_3==B, category_3==C, # of category_3==D"
   ]
  },
  {
   "cell_type": "markdown",
   "id": "respiratory-heather",
   "metadata": {},
   "source": [
    "##### count unique categories and merchant (category_1,category_2,category_3, merchant_category_id, merchant_id )"
   ]
  },
  {
   "cell_type": "code",
   "execution_count": 7,
   "id": "adaptive-implement",
   "metadata": {},
   "outputs": [],
   "source": [
    "hist_summary2 <- histdata %>% group_by(card_id)%>%\n",
    "        summarise_at(vars(starts_with(\"merchant_\"),starts_with(\"category\")), n_distinct, na.rm = TRUE) #summarise_at(vars(column name), funs(function))"
   ]
  },
  {
   "cell_type": "markdown",
   "id": "introductory-station",
   "metadata": {},
   "source": [
    "#### Number of transaction and information about purchase_date "
   ]
  },
  {
   "cell_type": "code",
   "execution_count": 8,
   "id": "numeric-council",
   "metadata": {},
   "outputs": [],
   "source": [
    "suppressWarnings(\n",
    "hist_summary3 <- histdata %>% group_by(card_id)%>%\n",
    "        summarize(no_trans=n(), \n",
    "                  # purchase term (difference between the oldest transaction date - the newest date)\n",
    "                  pur_term = as.integer(diff(range(purchase_date))), \n",
    "                  # how many days between each transaction\n",
    "                  avg_term = as.integer(mean(abs(difftime(sort(purchase_date), lag(sort(purchase_date),1), units='days')), na.rm=TRUE))\n",
    "        ))"
   ]
  },
  {
   "cell_type": "markdown",
   "id": "statutory-sixth",
   "metadata": {},
   "source": [
    "#### Caluculate SUM, MEAN, MIN, MAX, SD, and number of unique categories for several variables and combine all tables created above"
   ]
  },
  {
   "cell_type": "code",
   "execution_count": 9,
   "id": "permanent-scenario",
   "metadata": {},
   "outputs": [
    {
     "name": "stderr",
     "output_type": "stream",
     "text": [
      "Warning message:\n",
      "“`funs()` was deprecated in dplyr 0.8.0.\n",
      "Please use a list of either functions or lambdas: \n",
      "\n",
      "  # Simple named list: \n",
      "  list(mean = mean, median = median)\n",
      "\n",
      "  # Auto named with `tibble::lst()`: \n",
      "  tibble::lst(mean, median)\n",
      "\n",
      "  # Using lambdas\n",
      "  list(~ mean(., trim = .2), ~ median(., na.rm = TRUE))\n",
      "\u001b[90mThis warning is displayed once every 8 hours.\u001b[39m\n",
      "\u001b[90mCall `lifecycle::last_warnings()` to see where this warning was generated.\u001b[39m”\n"
     ]
    },
    {
     "data": {
      "text/html": [
       "<table class=\"dataframe\">\n",
       "<caption>A tibble: 6 × 43</caption>\n",
       "<thead>\n",
       "\t<tr><th scope=col>card_id</th><th scope=col>purchase_amount_sum</th><th scope=col>month_lag_sum</th><th scope=col>installments_sum</th><th scope=col>authorized_flag_sum</th><th scope=col>purchase_amount_mean</th><th scope=col>month_lag_mean</th><th scope=col>installments_mean</th><th scope=col>authorized_flag_mean</th><th scope=col>purchase_amount_min</th><th scope=col>⋯</th><th scope=col>N</th><th scope=col>Y</th><th scope=col>1</th><th scope=col>2</th><th scope=col>3</th><th scope=col>4</th><th scope=col>5</th><th scope=col>A</th><th scope=col>B</th><th scope=col>C</th></tr>\n",
       "\t<tr><th scope=col>&lt;chr&gt;</th><th scope=col>&lt;dbl&gt;</th><th scope=col>&lt;dbl&gt;</th><th scope=col>&lt;dbl&gt;</th><th scope=col>&lt;dbl&gt;</th><th scope=col>&lt;dbl&gt;</th><th scope=col>&lt;dbl&gt;</th><th scope=col>&lt;dbl&gt;</th><th scope=col>&lt;dbl&gt;</th><th scope=col>&lt;dbl&gt;</th><th scope=col>⋯</th><th scope=col>&lt;int&gt;</th><th scope=col>&lt;int&gt;</th><th scope=col>&lt;int&gt;</th><th scope=col>&lt;int&gt;</th><th scope=col>&lt;int&gt;</th><th scope=col>&lt;int&gt;</th><th scope=col>&lt;int&gt;</th><th scope=col>&lt;int&gt;</th><th scope=col>&lt;int&gt;</th><th scope=col>&lt;int&gt;</th></tr>\n",
       "</thead>\n",
       "<tbody>\n",
       "\t<tr><td>C_ID_00007093c1</td><td>-10.845235</td><td>-103</td><td>25</td><td>0</td><td>-0.5422617</td><td>-5.150000</td><td>1.2500000</td><td>0</td><td>-0.7093415</td><td>⋯</td><td>17</td><td> 3</td><td>NA</td><td>NA</td><td>17</td><td>NA</td><td>NA</td><td>NA</td><td>16</td><td> 4</td></tr>\n",
       "\t<tr><td>C_ID_0001238066</td><td>-13.726508</td><td> -40</td><td>41</td><td>0</td><td>-0.6239322</td><td>-1.818182</td><td>1.8636364</td><td>0</td><td>-0.7318963</td><td>⋯</td><td>21</td><td> 1</td><td>20</td><td>NA</td><td>NA</td><td>NA</td><td> 1</td><td>NA</td><td>15</td><td> 7</td></tr>\n",
       "\t<tr><td>C_ID_0001506ef0</td><td> -1.269320</td><td> -27</td><td> 0</td><td>0</td><td>-0.2115533</td><td>-4.500000</td><td>0.0000000</td><td>0</td><td>-0.7243680</td><td>⋯</td><td> 6</td><td>NA</td><td>NA</td><td>NA</td><td> 6</td><td>NA</td><td>NA</td><td> 6</td><td>NA</td><td>NA</td></tr>\n",
       "\t<tr><td>C_ID_0001793786</td><td> -3.095386</td><td> -35</td><td> 0</td><td>0</td><td>-0.2813988</td><td>-3.181818</td><td>0.0000000</td><td>0</td><td>-0.7214829</td><td>⋯</td><td>11</td><td>NA</td><td>NA</td><td> 5</td><td> 2</td><td>NA</td><td>NA</td><td>11</td><td>NA</td><td>NA</td></tr>\n",
       "\t<tr><td>C_ID_000183fdda</td><td> -5.931130</td><td> -23</td><td>23</td><td>0</td><td>-0.5391936</td><td>-2.090909</td><td>2.0909091</td><td>0</td><td>-0.7228654</td><td>⋯</td><td>11</td><td>NA</td><td>NA</td><td>NA</td><td>11</td><td>NA</td><td>NA</td><td>NA</td><td> 8</td><td> 3</td></tr>\n",
       "\t<tr><td>C_ID_00024e244b</td><td> -4.438261</td><td> -47</td><td> 1</td><td>0</td><td>-0.6340372</td><td>-6.714286</td><td>0.1428571</td><td>0</td><td>-0.7356680</td><td>⋯</td><td> 7</td><td>NA</td><td>NA</td><td>NA</td><td> 7</td><td>NA</td><td>NA</td><td> 6</td><td> 1</td><td>NA</td></tr>\n",
       "</tbody>\n",
       "</table>\n"
      ],
      "text/latex": [
       "A tibble: 6 × 43\n",
       "\\begin{tabular}{lllllllllllllllllllll}\n",
       " card\\_id & purchase\\_amount\\_sum & month\\_lag\\_sum & installments\\_sum & authorized\\_flag\\_sum & purchase\\_amount\\_mean & month\\_lag\\_mean & installments\\_mean & authorized\\_flag\\_mean & purchase\\_amount\\_min & ⋯ & N & Y & 1 & 2 & 3 & 4 & 5 & A & B & C\\\\\n",
       " <chr> & <dbl> & <dbl> & <dbl> & <dbl> & <dbl> & <dbl> & <dbl> & <dbl> & <dbl> & ⋯ & <int> & <int> & <int> & <int> & <int> & <int> & <int> & <int> & <int> & <int>\\\\\n",
       "\\hline\n",
       "\t C\\_ID\\_00007093c1 & -10.845235 & -103 & 25 & 0 & -0.5422617 & -5.150000 & 1.2500000 & 0 & -0.7093415 & ⋯ & 17 &  3 & NA & NA & 17 & NA & NA & NA & 16 &  4\\\\\n",
       "\t C\\_ID\\_0001238066 & -13.726508 &  -40 & 41 & 0 & -0.6239322 & -1.818182 & 1.8636364 & 0 & -0.7318963 & ⋯ & 21 &  1 & 20 & NA & NA & NA &  1 & NA & 15 &  7\\\\\n",
       "\t C\\_ID\\_0001506ef0 &  -1.269320 &  -27 &  0 & 0 & -0.2115533 & -4.500000 & 0.0000000 & 0 & -0.7243680 & ⋯ &  6 & NA & NA & NA &  6 & NA & NA &  6 & NA & NA\\\\\n",
       "\t C\\_ID\\_0001793786 &  -3.095386 &  -35 &  0 & 0 & -0.2813988 & -3.181818 & 0.0000000 & 0 & -0.7214829 & ⋯ & 11 & NA & NA &  5 &  2 & NA & NA & 11 & NA & NA\\\\\n",
       "\t C\\_ID\\_000183fdda &  -5.931130 &  -23 & 23 & 0 & -0.5391936 & -2.090909 & 2.0909091 & 0 & -0.7228654 & ⋯ & 11 & NA & NA & NA & 11 & NA & NA & NA &  8 &  3\\\\\n",
       "\t C\\_ID\\_00024e244b &  -4.438261 &  -47 &  1 & 0 & -0.6340372 & -6.714286 & 0.1428571 & 0 & -0.7356680 & ⋯ &  7 & NA & NA & NA &  7 & NA & NA &  6 &  1 & NA\\\\\n",
       "\\end{tabular}\n"
      ],
      "text/markdown": [
       "\n",
       "A tibble: 6 × 43\n",
       "\n",
       "| card_id &lt;chr&gt; | purchase_amount_sum &lt;dbl&gt; | month_lag_sum &lt;dbl&gt; | installments_sum &lt;dbl&gt; | authorized_flag_sum &lt;dbl&gt; | purchase_amount_mean &lt;dbl&gt; | month_lag_mean &lt;dbl&gt; | installments_mean &lt;dbl&gt; | authorized_flag_mean &lt;dbl&gt; | purchase_amount_min &lt;dbl&gt; | ⋯ ⋯ | N &lt;int&gt; | Y &lt;int&gt; | 1 &lt;int&gt; | 2 &lt;int&gt; | 3 &lt;int&gt; | 4 &lt;int&gt; | 5 &lt;int&gt; | A &lt;int&gt; | B &lt;int&gt; | C &lt;int&gt; |\n",
       "|---|---|---|---|---|---|---|---|---|---|---|---|---|---|---|---|---|---|---|---|---|\n",
       "| C_ID_00007093c1 | -10.845235 | -103 | 25 | 0 | -0.5422617 | -5.150000 | 1.2500000 | 0 | -0.7093415 | ⋯ | 17 |  3 | NA | NA | 17 | NA | NA | NA | 16 |  4 |\n",
       "| C_ID_0001238066 | -13.726508 |  -40 | 41 | 0 | -0.6239322 | -1.818182 | 1.8636364 | 0 | -0.7318963 | ⋯ | 21 |  1 | 20 | NA | NA | NA |  1 | NA | 15 |  7 |\n",
       "| C_ID_0001506ef0 |  -1.269320 |  -27 |  0 | 0 | -0.2115533 | -4.500000 | 0.0000000 | 0 | -0.7243680 | ⋯ |  6 | NA | NA | NA |  6 | NA | NA |  6 | NA | NA |\n",
       "| C_ID_0001793786 |  -3.095386 |  -35 |  0 | 0 | -0.2813988 | -3.181818 | 0.0000000 | 0 | -0.7214829 | ⋯ | 11 | NA | NA |  5 |  2 | NA | NA | 11 | NA | NA |\n",
       "| C_ID_000183fdda |  -5.931130 |  -23 | 23 | 0 | -0.5391936 | -2.090909 | 2.0909091 | 0 | -0.7228654 | ⋯ | 11 | NA | NA | NA | 11 | NA | NA | NA |  8 |  3 |\n",
       "| C_ID_00024e244b |  -4.438261 |  -47 |  1 | 0 | -0.6340372 | -6.714286 | 0.1428571 | 0 | -0.7356680 | ⋯ |  7 | NA | NA | NA |  7 | NA | NA |  6 |  1 | NA |\n",
       "\n"
      ],
      "text/plain": [
       "  card_id         purchase_amount_sum month_lag_sum installments_sum\n",
       "1 C_ID_00007093c1 -10.845235          -103          25              \n",
       "2 C_ID_0001238066 -13.726508           -40          41              \n",
       "3 C_ID_0001506ef0  -1.269320           -27           0              \n",
       "4 C_ID_0001793786  -3.095386           -35           0              \n",
       "5 C_ID_000183fdda  -5.931130           -23          23              \n",
       "6 C_ID_00024e244b  -4.438261           -47           1              \n",
       "  authorized_flag_sum purchase_amount_mean month_lag_mean installments_mean\n",
       "1 0                   -0.5422617           -5.150000      1.2500000        \n",
       "2 0                   -0.6239322           -1.818182      1.8636364        \n",
       "3 0                   -0.2115533           -4.500000      0.0000000        \n",
       "4 0                   -0.2813988           -3.181818      0.0000000        \n",
       "5 0                   -0.5391936           -2.090909      2.0909091        \n",
       "6 0                   -0.6340372           -6.714286      0.1428571        \n",
       "  authorized_flag_mean purchase_amount_min ⋯ N  Y  1  2  3  4  5  A  B  C \n",
       "1 0                    -0.7093415          ⋯ 17  3 NA NA 17 NA NA NA 16  4\n",
       "2 0                    -0.7318963          ⋯ 21  1 20 NA NA NA  1 NA 15  7\n",
       "3 0                    -0.7243680          ⋯  6 NA NA NA  6 NA NA  6 NA NA\n",
       "4 0                    -0.7214829          ⋯ 11 NA NA  5  2 NA NA 11 NA NA\n",
       "5 0                    -0.7228654          ⋯ 11 NA NA NA 11 NA NA NA  8  3\n",
       "6 0                    -0.7356680          ⋯  7 NA NA NA  7 NA NA  6  1 NA"
      ]
     },
     "metadata": {},
     "output_type": "display_data"
    }
   ],
   "source": [
    "fn <- funs(sum, mean, min, max, sd, n_distinct, .args = list(na.rm = TRUE))\n",
    "histdata$authorized_flag <- ifelse(histdata$authorized_flag == \"Y\",1,0)\n",
    "\n",
    "hist_summary <- histdata %>%\n",
    "        group_by(card_id) %>% \n",
    "        select(c(\"card_id\",\"purchase_amount\",\"month_lag\",\"installments\",\"authorized_flag\")) %>% #month_lag= # of months between purchase_date and 2018-02 \n",
    "        summarize_all(fn) %>%\n",
    "        left_join(hist_summary2,by=\"card_id\") %>%\n",
    "        left_join(hist_summary3,by=\"card_id\") %>%\n",
    "        left_join(hist_cat1,by=\"card_id\") %>%\n",
    "        left_join(hist_cat2[,-7],by=\"card_id\") %>% #remove NA column\n",
    "        left_join(hist_cat3[,-5],by=\"card_id\")  #remove NA column\n",
    "\n",
    "head(hist_summary)"
   ]
  },
  {
   "cell_type": "markdown",
   "id": "sixth-destruction",
   "metadata": {},
   "source": [
    "### new merchants transaction data"
   ]
  },
  {
   "cell_type": "markdown",
   "id": "cultural-local",
   "metadata": {},
   "source": [
    "#### Convert categorical features"
   ]
  },
  {
   "cell_type": "code",
   "execution_count": 10,
   "id": "flexible-accused",
   "metadata": {},
   "outputs": [
    {
     "name": "stderr",
     "output_type": "stream",
     "text": [
      "`summarise()` has grouped output by 'card_id'. You can override using the `.groups` argument.\n",
      "\n",
      "`summarise()` has grouped output by 'card_id'. You can override using the `.groups` argument.\n",
      "\n",
      "`summarise()` has grouped output by 'card_id'. You can override using the `.groups` argument.\n",
      "\n"
     ]
    }
   ],
   "source": [
    "# newdata category\n",
    "new_cat1 <- newdata %>% group_by(card_id,category_1) %>% \n",
    "        summarize(count=n())%>%\n",
    "        spread(key=category_1, value=count)\n",
    "\n",
    "new_cat2 <- newdata %>% group_by(card_id,category_2) %>% \n",
    "        summarize(count=n())%>%\n",
    "        spread(key=category_2, value=count)\n",
    "\n",
    "new_cat3 <- newdata %>% group_by(card_id,category_3) %>% \n",
    "        summarize(count=n())%>%\n",
    "        spread(key=category_3, value=count)"
   ]
  },
  {
   "cell_type": "code",
   "execution_count": 11,
   "id": "designing-venue",
   "metadata": {},
   "outputs": [],
   "source": [
    "# rename columns\n",
    "colnames(new_cat1) <- c(\"card_id\",\"new_N\", \"new_Y\")\n",
    "colnames(new_cat2) <- c(\"card_id\",\"new1\", \"new2\",\"new3\",\"new4\",\"new5\",\"na\")\n",
    "colnames(new_cat3) <- c(\"card_id\",\"new_A\", \"new_B\", \"new_C\", \"na\")\n"
   ]
  },
  {
   "cell_type": "markdown",
   "id": "above-migration",
   "metadata": {},
   "source": [
    "#### Merge new transaction & merchants data"
   ]
  },
  {
   "cell_type": "code",
   "execution_count": 12,
   "id": "expressed-manner",
   "metadata": {},
   "outputs": [],
   "source": [
    "new_merge <- newdata %>%\n",
    "        left_join(merchants, by=\"merchant_id\",suffix = c(\"_new\", \"_m\"))"
   ]
  },
  {
   "cell_type": "markdown",
   "id": "italic-deadline",
   "metadata": {},
   "source": [
    "##### Count unique categories and merchant (category_1,category_2,category_3, merchant_category_id, merchant_id )"
   ]
  },
  {
   "cell_type": "code",
   "execution_count": 13,
   "id": "characteristic-midwest",
   "metadata": {},
   "outputs": [],
   "source": [
    "new_summary2 <- new_merge %>% group_by(card_id)%>%\n",
    "        summarise_at(vars(starts_with(\"merchant_\"),starts_with(\"category\")), n_distinct, na.rm = TRUE) "
   ]
  },
  {
   "cell_type": "markdown",
   "id": "verified-system",
   "metadata": {},
   "source": [
    "#### Number of transaction and information about purchase_date"
   ]
  },
  {
   "cell_type": "code",
   "execution_count": 14,
   "id": "liable-extraction",
   "metadata": {},
   "outputs": [],
   "source": [
    "new_summary3 <- new_merge %>%\n",
    "        group_by(card_id) %>% \n",
    "        summarise(\n",
    "                new_no_trans=n(), \n",
    "                new_pur_term = as.integer(diff(range(purchase_date))),\n",
    "                new_avg_term = as.integer(mean(abs(difftime(sort(purchase_date), lag(sort(purchase_date),1), units='days')), na.rm=TRUE))\n",
    "        )"
   ]
  },
  {
   "cell_type": "markdown",
   "id": "dedicated-possession",
   "metadata": {},
   "source": [
    "#### Caluculate SUM, MEAN, MIN, MAX, SD, and number of unique categories for several variables and combine all tables created above"
   ]
  },
  {
   "cell_type": "code",
   "execution_count": 15,
   "id": "suited-national",
   "metadata": {},
   "outputs": [
    {
     "data": {
      "text/html": [
       "<table class=\"dataframe\">\n",
       "<caption>A tibble: 6 × 66</caption>\n",
       "<thead>\n",
       "\t<tr><th scope=col>card_id</th><th scope=col>purchase_amount_sum</th><th scope=col>month_lag_sum</th><th scope=col>installments_sum</th><th scope=col>authorized_flag_sum</th><th scope=col>avg_purchases_lag3_sum</th><th scope=col>avg_purchases_lag6_sum</th><th scope=col>avg_purchases_lag12_sum</th><th scope=col>purchase_amount_mean</th><th scope=col>month_lag_mean</th><th scope=col>⋯</th><th scope=col>new_N</th><th scope=col>new_Y</th><th scope=col>new1</th><th scope=col>new2</th><th scope=col>new3</th><th scope=col>new4</th><th scope=col>new5</th><th scope=col>new_A</th><th scope=col>new_B</th><th scope=col>new_C</th></tr>\n",
       "\t<tr><th scope=col>&lt;chr&gt;</th><th scope=col>&lt;dbl&gt;</th><th scope=col>&lt;dbl&gt;</th><th scope=col>&lt;dbl&gt;</th><th scope=col>&lt;dbl&gt;</th><th scope=col>&lt;dbl&gt;</th><th scope=col>&lt;dbl&gt;</th><th scope=col>&lt;dbl&gt;</th><th scope=col>&lt;dbl&gt;</th><th scope=col>&lt;dbl&gt;</th><th scope=col>⋯</th><th scope=col>&lt;int&gt;</th><th scope=col>&lt;int&gt;</th><th scope=col>&lt;int&gt;</th><th scope=col>&lt;int&gt;</th><th scope=col>&lt;int&gt;</th><th scope=col>&lt;int&gt;</th><th scope=col>&lt;int&gt;</th><th scope=col>&lt;int&gt;</th><th scope=col>&lt;int&gt;</th><th scope=col>&lt;int&gt;</th></tr>\n",
       "</thead>\n",
       "<tbody>\n",
       "\t<tr><td>C_ID_0001793786</td><td>-0.09644015</td><td>3</td><td>0</td><td>3</td><td> 4.3506664</td><td> 4.5910083</td><td> 4.743169</td><td>-0.03214672</td><td>1</td><td>⋯</td><td>3</td><td>NA</td><td> 1</td><td> 2</td><td>NA</td><td>NA</td><td>NA</td><td> 3</td><td>NA</td><td>NA</td></tr>\n",
       "\t<tr><td>C_ID_0005f16cc8</td><td>-0.68992726</td><td>2</td><td>0</td><td>1</td><td> 1.0670403</td><td> 1.0868934</td><td> 1.163601</td><td>-0.68992726</td><td>2</td><td>⋯</td><td>1</td><td>NA</td><td>NA</td><td>NA</td><td> 1</td><td>NA</td><td>NA</td><td> 1</td><td>NA</td><td>NA</td></tr>\n",
       "\t<tr><td>C_ID_0006152db8</td><td>-0.74029613</td><td>2</td><td>0</td><td>1</td><td> 0.9690171</td><td> 0.9845086</td><td> 1.016560</td><td>-0.74029613</td><td>2</td><td>⋯</td><td>1</td><td>NA</td><td>NA</td><td>NA</td><td>NA</td><td> 1</td><td>NA</td><td> 1</td><td>NA</td><td>NA</td></tr>\n",
       "\t<tr><td>C_ID_000616f4a8</td><td>-0.53864034</td><td>1</td><td>1</td><td>1</td><td> 1.1428571</td><td> 1.5674603</td><td> 1.642857</td><td>-0.53864034</td><td>1</td><td>⋯</td><td>1</td><td>NA</td><td> 1</td><td>NA</td><td>NA</td><td>NA</td><td>NA</td><td>NA</td><td> 1</td><td>NA</td></tr>\n",
       "\t<tr><td>C_ID_000844d8f1</td><td>-2.15459143</td><td>3</td><td>0</td><td>3</td><td> 3.5113181</td><td> 3.4718924</td><td> 3.340549</td><td>-0.71819714</td><td>1</td><td>⋯</td><td>3</td><td>NA</td><td> 3</td><td>NA</td><td>NA</td><td>NA</td><td>NA</td><td> 3</td><td>NA</td><td>NA</td></tr>\n",
       "\t<tr><td>C_ID_0009150c11</td><td>-2.93954634</td><td>8</td><td>0</td><td>4</td><td>15.9380488</td><td>19.1051335</td><td>19.549479</td><td>-0.73488659</td><td>2</td><td>⋯</td><td>3</td><td>NA</td><td> 1</td><td>NA</td><td>NA</td><td> 2</td><td>NA</td><td> 3</td><td>NA</td><td>NA</td></tr>\n",
       "</tbody>\n",
       "</table>\n"
      ],
      "text/latex": [
       "A tibble: 6 × 66\n",
       "\\begin{tabular}{lllllllllllllllllllll}\n",
       " card\\_id & purchase\\_amount\\_sum & month\\_lag\\_sum & installments\\_sum & authorized\\_flag\\_sum & avg\\_purchases\\_lag3\\_sum & avg\\_purchases\\_lag6\\_sum & avg\\_purchases\\_lag12\\_sum & purchase\\_amount\\_mean & month\\_lag\\_mean & ⋯ & new\\_N & new\\_Y & new1 & new2 & new3 & new4 & new5 & new\\_A & new\\_B & new\\_C\\\\\n",
       " <chr> & <dbl> & <dbl> & <dbl> & <dbl> & <dbl> & <dbl> & <dbl> & <dbl> & <dbl> & ⋯ & <int> & <int> & <int> & <int> & <int> & <int> & <int> & <int> & <int> & <int>\\\\\n",
       "\\hline\n",
       "\t C\\_ID\\_0001793786 & -0.09644015 & 3 & 0 & 3 &  4.3506664 &  4.5910083 &  4.743169 & -0.03214672 & 1 & ⋯ & 3 & NA &  1 &  2 & NA & NA & NA &  3 & NA & NA\\\\\n",
       "\t C\\_ID\\_0005f16cc8 & -0.68992726 & 2 & 0 & 1 &  1.0670403 &  1.0868934 &  1.163601 & -0.68992726 & 2 & ⋯ & 1 & NA & NA & NA &  1 & NA & NA &  1 & NA & NA\\\\\n",
       "\t C\\_ID\\_0006152db8 & -0.74029613 & 2 & 0 & 1 &  0.9690171 &  0.9845086 &  1.016560 & -0.74029613 & 2 & ⋯ & 1 & NA & NA & NA & NA &  1 & NA &  1 & NA & NA\\\\\n",
       "\t C\\_ID\\_000616f4a8 & -0.53864034 & 1 & 1 & 1 &  1.1428571 &  1.5674603 &  1.642857 & -0.53864034 & 1 & ⋯ & 1 & NA &  1 & NA & NA & NA & NA & NA &  1 & NA\\\\\n",
       "\t C\\_ID\\_000844d8f1 & -2.15459143 & 3 & 0 & 3 &  3.5113181 &  3.4718924 &  3.340549 & -0.71819714 & 1 & ⋯ & 3 & NA &  3 & NA & NA & NA & NA &  3 & NA & NA\\\\\n",
       "\t C\\_ID\\_0009150c11 & -2.93954634 & 8 & 0 & 4 & 15.9380488 & 19.1051335 & 19.549479 & -0.73488659 & 2 & ⋯ & 3 & NA &  1 & NA & NA &  2 & NA &  3 & NA & NA\\\\\n",
       "\\end{tabular}\n"
      ],
      "text/markdown": [
       "\n",
       "A tibble: 6 × 66\n",
       "\n",
       "| card_id &lt;chr&gt; | purchase_amount_sum &lt;dbl&gt; | month_lag_sum &lt;dbl&gt; | installments_sum &lt;dbl&gt; | authorized_flag_sum &lt;dbl&gt; | avg_purchases_lag3_sum &lt;dbl&gt; | avg_purchases_lag6_sum &lt;dbl&gt; | avg_purchases_lag12_sum &lt;dbl&gt; | purchase_amount_mean &lt;dbl&gt; | month_lag_mean &lt;dbl&gt; | ⋯ ⋯ | new_N &lt;int&gt; | new_Y &lt;int&gt; | new1 &lt;int&gt; | new2 &lt;int&gt; | new3 &lt;int&gt; | new4 &lt;int&gt; | new5 &lt;int&gt; | new_A &lt;int&gt; | new_B &lt;int&gt; | new_C &lt;int&gt; |\n",
       "|---|---|---|---|---|---|---|---|---|---|---|---|---|---|---|---|---|---|---|---|---|\n",
       "| C_ID_0001793786 | -0.09644015 | 3 | 0 | 3 |  4.3506664 |  4.5910083 |  4.743169 | -0.03214672 | 1 | ⋯ | 3 | NA |  1 |  2 | NA | NA | NA |  3 | NA | NA |\n",
       "| C_ID_0005f16cc8 | -0.68992726 | 2 | 0 | 1 |  1.0670403 |  1.0868934 |  1.163601 | -0.68992726 | 2 | ⋯ | 1 | NA | NA | NA |  1 | NA | NA |  1 | NA | NA |\n",
       "| C_ID_0006152db8 | -0.74029613 | 2 | 0 | 1 |  0.9690171 |  0.9845086 |  1.016560 | -0.74029613 | 2 | ⋯ | 1 | NA | NA | NA | NA |  1 | NA |  1 | NA | NA |\n",
       "| C_ID_000616f4a8 | -0.53864034 | 1 | 1 | 1 |  1.1428571 |  1.5674603 |  1.642857 | -0.53864034 | 1 | ⋯ | 1 | NA |  1 | NA | NA | NA | NA | NA |  1 | NA |\n",
       "| C_ID_000844d8f1 | -2.15459143 | 3 | 0 | 3 |  3.5113181 |  3.4718924 |  3.340549 | -0.71819714 | 1 | ⋯ | 3 | NA |  3 | NA | NA | NA | NA |  3 | NA | NA |\n",
       "| C_ID_0009150c11 | -2.93954634 | 8 | 0 | 4 | 15.9380488 | 19.1051335 | 19.549479 | -0.73488659 | 2 | ⋯ | 3 | NA |  1 | NA | NA |  2 | NA |  3 | NA | NA |\n",
       "\n"
      ],
      "text/plain": [
       "  card_id         purchase_amount_sum month_lag_sum installments_sum\n",
       "1 C_ID_0001793786 -0.09644015         3             0               \n",
       "2 C_ID_0005f16cc8 -0.68992726         2             0               \n",
       "3 C_ID_0006152db8 -0.74029613         2             0               \n",
       "4 C_ID_000616f4a8 -0.53864034         1             1               \n",
       "5 C_ID_000844d8f1 -2.15459143         3             0               \n",
       "6 C_ID_0009150c11 -2.93954634         8             0               \n",
       "  authorized_flag_sum avg_purchases_lag3_sum avg_purchases_lag6_sum\n",
       "1 3                    4.3506664              4.5910083            \n",
       "2 1                    1.0670403              1.0868934            \n",
       "3 1                    0.9690171              0.9845086            \n",
       "4 1                    1.1428571              1.5674603            \n",
       "5 3                    3.5113181              3.4718924            \n",
       "6 4                   15.9380488             19.1051335            \n",
       "  avg_purchases_lag12_sum purchase_amount_mean month_lag_mean ⋯ new_N new_Y\n",
       "1  4.743169               -0.03214672          1              ⋯ 3     NA   \n",
       "2  1.163601               -0.68992726          2              ⋯ 1     NA   \n",
       "3  1.016560               -0.74029613          2              ⋯ 1     NA   \n",
       "4  1.642857               -0.53864034          1              ⋯ 1     NA   \n",
       "5  3.340549               -0.71819714          1              ⋯ 3     NA   \n",
       "6 19.549479               -0.73488659          2              ⋯ 3     NA   \n",
       "  new1 new2 new3 new4 new5 new_A new_B new_C\n",
       "1  1    2   NA   NA   NA    3    NA    NA   \n",
       "2 NA   NA    1   NA   NA    1    NA    NA   \n",
       "3 NA   NA   NA    1   NA    1    NA    NA   \n",
       "4  1   NA   NA   NA   NA   NA     1    NA   \n",
       "5  3   NA   NA   NA   NA    3    NA    NA   \n",
       "6  1   NA   NA    2   NA    3    NA    NA   "
      ]
     },
     "metadata": {},
     "output_type": "display_data"
    }
   ],
   "source": [
    "new_merge$authorized_flag <- ifelse(new_merge$authorized_flag == \"Y\",1,0)\n",
    "suppressWarnings(\n",
    "new_summary <- new_merge %>%\n",
    "        group_by(card_id) %>% \n",
    "        select(c(\"card_id\",\"purchase_amount\",\"month_lag\",\"installments\",\"authorized_flag\",\"avg_purchases_lag3\",\"avg_purchases_lag6\",\"avg_purchases_lag12\")) %>% \n",
    "                 # month_lag: might show the relationship between [royalty score] and [how recent the customer buys]\n",
    "                 #avg_purchases_lag: might show the relationship between [royalty score] and [# of transaction of each merchant]\n",
    "        summarize_all(fn) %>%\n",
    "        left_join(new_summary2,by=\"card_id\") %>%\n",
    "        left_join(new_summary3,by=\"card_id\") %>%\n",
    "        left_join(new_cat1, by=\"card_id\") %>%\n",
    "        left_join(new_cat2[,-7],by=\"card_id\") %>%\n",
    "        left_join(new_cat3[,-5],by=\"card_id\") \n",
    ")\n",
    "head(new_summary)"
   ]
  },
  {
   "cell_type": "markdown",
   "id": "accepted-drive",
   "metadata": {},
   "source": [
    "### Train Data"
   ]
  },
  {
   "cell_type": "markdown",
   "id": "popular-sensitivity",
   "metadata": {},
   "source": [
    "#### Convert the data about month of first purchase and calculate the purchase term between first_active_month and reference date (2018-02)"
   ]
  },
  {
   "cell_type": "code",
   "execution_count": 16,
   "id": "honest-laser",
   "metadata": {},
   "outputs": [
    {
     "data": {
      "text/html": [
       "<table class=\"dataframe\">\n",
       "<caption>A tibble: 6 × 116</caption>\n",
       "<thead>\n",
       "\t<tr><th scope=col>first_active_month</th><th scope=col>card_id</th><th scope=col>feature_1</th><th scope=col>feature_2</th><th scope=col>feature_3</th><th scope=col>target</th><th scope=col>year</th><th scope=col>month</th><th scope=col>howlong</th><th scope=col>purchase_amount_sum</th><th scope=col>⋯</th><th scope=col>new_N</th><th scope=col>new_Y</th><th scope=col>new1</th><th scope=col>new2</th><th scope=col>new3</th><th scope=col>new4</th><th scope=col>new5</th><th scope=col>new_A</th><th scope=col>new_B</th><th scope=col>new_C</th></tr>\n",
       "\t<tr><th scope=col>&lt;date&gt;</th><th scope=col>&lt;chr&gt;</th><th scope=col>&lt;dbl&gt;</th><th scope=col>&lt;dbl&gt;</th><th scope=col>&lt;dbl&gt;</th><th scope=col>&lt;dbl&gt;</th><th scope=col>&lt;dbl&gt;</th><th scope=col>&lt;dbl&gt;</th><th scope=col>&lt;int&gt;</th><th scope=col>&lt;dbl&gt;</th><th scope=col>⋯</th><th scope=col>&lt;int&gt;</th><th scope=col>&lt;int&gt;</th><th scope=col>&lt;int&gt;</th><th scope=col>&lt;int&gt;</th><th scope=col>&lt;int&gt;</th><th scope=col>&lt;int&gt;</th><th scope=col>&lt;int&gt;</th><th scope=col>&lt;int&gt;</th><th scope=col>&lt;int&gt;</th><th scope=col>&lt;int&gt;</th></tr>\n",
       "</thead>\n",
       "<tbody>\n",
       "\t<tr><td>2017-06-01</td><td>C_ID_92a2005557</td><td>5</td><td>2</td><td>1</td><td>-0.8202826</td><td>2017</td><td> 6</td><td>245</td><td>-14.628745</td><td>⋯</td><td> 2</td><td>NA</td><td> 2</td><td>NA</td><td>NA</td><td>NA</td><td>NA</td><td> 2</td><td>NA</td><td>NA</td></tr>\n",
       "\t<tr><td>2017-01-01</td><td>C_ID_3d0044924f</td><td>4</td><td>1</td><td>0</td><td> 0.3929132</td><td>2017</td><td> 1</td><td>396</td><td>-18.333276</td><td>⋯</td><td>NA</td><td>NA</td><td>NA</td><td>NA</td><td>NA</td><td>NA</td><td>NA</td><td>NA</td><td>NA</td><td>NA</td></tr>\n",
       "\t<tr><td>2016-08-01</td><td>C_ID_d639edf6cd</td><td>2</td><td>2</td><td>0</td><td> 0.6880560</td><td>2016</td><td> 8</td><td>549</td><td> -2.057205</td><td>⋯</td><td>NA</td><td>NA</td><td>NA</td><td>NA</td><td>NA</td><td>NA</td><td>NA</td><td>NA</td><td>NA</td><td>NA</td></tr>\n",
       "\t<tr><td>2017-09-01</td><td>C_ID_186d6a6901</td><td>4</td><td>3</td><td>0</td><td> 0.1424952</td><td>2017</td><td> 9</td><td>153</td><td> -4.995338</td><td>⋯</td><td>NA</td><td>NA</td><td>NA</td><td>NA</td><td>NA</td><td>NA</td><td>NA</td><td>NA</td><td>NA</td><td>NA</td></tr>\n",
       "\t<tr><td>2017-11-01</td><td>C_ID_cdbd2c0db2</td><td>1</td><td>3</td><td>0</td><td>-0.1597492</td><td>2017</td><td>11</td><td> 92</td><td> -8.336574</td><td>⋯</td><td> 5</td><td> 1</td><td>NA</td><td>NA</td><td> 2</td><td> 3</td><td>NA</td><td>NA</td><td> 5</td><td> 1</td></tr>\n",
       "\t<tr><td>2016-09-01</td><td>C_ID_0894217f2f</td><td>4</td><td>2</td><td>0</td><td> 0.8715853</td><td>2016</td><td> 9</td><td>518</td><td> -2.049541</td><td>⋯</td><td> 1</td><td>NA</td><td> 1</td><td>NA</td><td>NA</td><td>NA</td><td>NA</td><td>NA</td><td>NA</td><td> 1</td></tr>\n",
       "</tbody>\n",
       "</table>\n"
      ],
      "text/latex": [
       "A tibble: 6 × 116\n",
       "\\begin{tabular}{lllllllllllllllllllll}\n",
       " first\\_active\\_month & card\\_id & feature\\_1 & feature\\_2 & feature\\_3 & target & year & month & howlong & purchase\\_amount\\_sum & ⋯ & new\\_N & new\\_Y & new1 & new2 & new3 & new4 & new5 & new\\_A & new\\_B & new\\_C\\\\\n",
       " <date> & <chr> & <dbl> & <dbl> & <dbl> & <dbl> & <dbl> & <dbl> & <int> & <dbl> & ⋯ & <int> & <int> & <int> & <int> & <int> & <int> & <int> & <int> & <int> & <int>\\\\\n",
       "\\hline\n",
       "\t 2017-06-01 & C\\_ID\\_92a2005557 & 5 & 2 & 1 & -0.8202826 & 2017 &  6 & 245 & -14.628745 & ⋯ &  2 & NA &  2 & NA & NA & NA & NA &  2 & NA & NA\\\\\n",
       "\t 2017-01-01 & C\\_ID\\_3d0044924f & 4 & 1 & 0 &  0.3929132 & 2017 &  1 & 396 & -18.333276 & ⋯ & NA & NA & NA & NA & NA & NA & NA & NA & NA & NA\\\\\n",
       "\t 2016-08-01 & C\\_ID\\_d639edf6cd & 2 & 2 & 0 &  0.6880560 & 2016 &  8 & 549 &  -2.057205 & ⋯ & NA & NA & NA & NA & NA & NA & NA & NA & NA & NA\\\\\n",
       "\t 2017-09-01 & C\\_ID\\_186d6a6901 & 4 & 3 & 0 &  0.1424952 & 2017 &  9 & 153 &  -4.995338 & ⋯ & NA & NA & NA & NA & NA & NA & NA & NA & NA & NA\\\\\n",
       "\t 2017-11-01 & C\\_ID\\_cdbd2c0db2 & 1 & 3 & 0 & -0.1597492 & 2017 & 11 &  92 &  -8.336574 & ⋯ &  5 &  1 & NA & NA &  2 &  3 & NA & NA &  5 &  1\\\\\n",
       "\t 2016-09-01 & C\\_ID\\_0894217f2f & 4 & 2 & 0 &  0.8715853 & 2016 &  9 & 518 &  -2.049541 & ⋯ &  1 & NA &  1 & NA & NA & NA & NA & NA & NA &  1\\\\\n",
       "\\end{tabular}\n"
      ],
      "text/markdown": [
       "\n",
       "A tibble: 6 × 116\n",
       "\n",
       "| first_active_month &lt;date&gt; | card_id &lt;chr&gt; | feature_1 &lt;dbl&gt; | feature_2 &lt;dbl&gt; | feature_3 &lt;dbl&gt; | target &lt;dbl&gt; | year &lt;dbl&gt; | month &lt;dbl&gt; | howlong &lt;int&gt; | purchase_amount_sum &lt;dbl&gt; | ⋯ ⋯ | new_N &lt;int&gt; | new_Y &lt;int&gt; | new1 &lt;int&gt; | new2 &lt;int&gt; | new3 &lt;int&gt; | new4 &lt;int&gt; | new5 &lt;int&gt; | new_A &lt;int&gt; | new_B &lt;int&gt; | new_C &lt;int&gt; |\n",
       "|---|---|---|---|---|---|---|---|---|---|---|---|---|---|---|---|---|---|---|---|---|\n",
       "| 2017-06-01 | C_ID_92a2005557 | 5 | 2 | 1 | -0.8202826 | 2017 |  6 | 245 | -14.628745 | ⋯ |  2 | NA |  2 | NA | NA | NA | NA |  2 | NA | NA |\n",
       "| 2017-01-01 | C_ID_3d0044924f | 4 | 1 | 0 |  0.3929132 | 2017 |  1 | 396 | -18.333276 | ⋯ | NA | NA | NA | NA | NA | NA | NA | NA | NA | NA |\n",
       "| 2016-08-01 | C_ID_d639edf6cd | 2 | 2 | 0 |  0.6880560 | 2016 |  8 | 549 |  -2.057205 | ⋯ | NA | NA | NA | NA | NA | NA | NA | NA | NA | NA |\n",
       "| 2017-09-01 | C_ID_186d6a6901 | 4 | 3 | 0 |  0.1424952 | 2017 |  9 | 153 |  -4.995338 | ⋯ | NA | NA | NA | NA | NA | NA | NA | NA | NA | NA |\n",
       "| 2017-11-01 | C_ID_cdbd2c0db2 | 1 | 3 | 0 | -0.1597492 | 2017 | 11 |  92 |  -8.336574 | ⋯ |  5 |  1 | NA | NA |  2 |  3 | NA | NA |  5 |  1 |\n",
       "| 2016-09-01 | C_ID_0894217f2f | 4 | 2 | 0 |  0.8715853 | 2016 |  9 | 518 |  -2.049541 | ⋯ |  1 | NA |  1 | NA | NA | NA | NA | NA | NA |  1 |\n",
       "\n"
      ],
      "text/plain": [
       "  first_active_month card_id         feature_1 feature_2 feature_3 target    \n",
       "1 2017-06-01         C_ID_92a2005557 5         2         1         -0.8202826\n",
       "2 2017-01-01         C_ID_3d0044924f 4         1         0          0.3929132\n",
       "3 2016-08-01         C_ID_d639edf6cd 2         2         0          0.6880560\n",
       "4 2017-09-01         C_ID_186d6a6901 4         3         0          0.1424952\n",
       "5 2017-11-01         C_ID_cdbd2c0db2 1         3         0         -0.1597492\n",
       "6 2016-09-01         C_ID_0894217f2f 4         2         0          0.8715853\n",
       "  year month howlong purchase_amount_sum ⋯ new_N new_Y new1 new2 new3 new4 new5\n",
       "1 2017  6    245     -14.628745          ⋯  2    NA     2   NA   NA   NA   NA  \n",
       "2 2017  1    396     -18.333276          ⋯ NA    NA    NA   NA   NA   NA   NA  \n",
       "3 2016  8    549      -2.057205          ⋯ NA    NA    NA   NA   NA   NA   NA  \n",
       "4 2017  9    153      -4.995338          ⋯ NA    NA    NA   NA   NA   NA   NA  \n",
       "5 2017 11     92      -8.336574          ⋯  5     1    NA   NA    2    3   NA  \n",
       "6 2016  9    518      -2.049541          ⋯  1    NA     1   NA   NA   NA   NA  \n",
       "  new_A new_B new_C\n",
       "1  2    NA    NA   \n",
       "2 NA    NA    NA   \n",
       "3 NA    NA    NA   \n",
       "4 NA    NA    NA   \n",
       "5 NA     5     1   \n",
       "6 NA    NA     1   "
      ]
     },
     "metadata": {},
     "output_type": "display_data"
    },
    {
     "data": {
      "text/html": [
       "<table class=\"dataframe\">\n",
       "<caption>A tibble: 6 × 116</caption>\n",
       "<thead>\n",
       "\t<tr><th scope=col>first_active_month</th><th scope=col>card_id</th><th scope=col>feature_1</th><th scope=col>feature_2</th><th scope=col>feature_3</th><th scope=col>target</th><th scope=col>year</th><th scope=col>month</th><th scope=col>howlong</th><th scope=col>purchase_amount_sum</th><th scope=col>⋯</th><th scope=col>new_N</th><th scope=col>new_Y</th><th scope=col>new1</th><th scope=col>new2</th><th scope=col>new3</th><th scope=col>new4</th><th scope=col>new5</th><th scope=col>new_A</th><th scope=col>new_B</th><th scope=col>new_C</th></tr>\n",
       "\t<tr><th scope=col>&lt;date&gt;</th><th scope=col>&lt;chr&gt;</th><th scope=col>&lt;dbl&gt;</th><th scope=col>&lt;dbl&gt;</th><th scope=col>&lt;dbl&gt;</th><th scope=col>&lt;dbl&gt;</th><th scope=col>&lt;dbl&gt;</th><th scope=col>&lt;dbl&gt;</th><th scope=col>&lt;int&gt;</th><th scope=col>&lt;dbl&gt;</th><th scope=col>⋯</th><th scope=col>&lt;int&gt;</th><th scope=col>&lt;int&gt;</th><th scope=col>&lt;int&gt;</th><th scope=col>&lt;int&gt;</th><th scope=col>&lt;int&gt;</th><th scope=col>&lt;int&gt;</th><th scope=col>&lt;int&gt;</th><th scope=col>&lt;int&gt;</th><th scope=col>&lt;int&gt;</th><th scope=col>&lt;int&gt;</th></tr>\n",
       "</thead>\n",
       "<tbody>\n",
       "\t<tr><td>2017-06-01</td><td>C_ID_92a2005557</td><td>5</td><td>2</td><td>1</td><td>-0.8202826</td><td>2017</td><td> 6</td><td>245</td><td>-14.628745</td><td>⋯</td><td>2</td><td>0</td><td>2</td><td>0</td><td>0</td><td>0</td><td>0</td><td>2</td><td>0</td><td>0</td></tr>\n",
       "\t<tr><td>2017-01-01</td><td>C_ID_3d0044924f</td><td>4</td><td>1</td><td>0</td><td> 0.3929132</td><td>2017</td><td> 1</td><td>396</td><td>-18.333276</td><td>⋯</td><td>0</td><td>0</td><td>0</td><td>0</td><td>0</td><td>0</td><td>0</td><td>0</td><td>0</td><td>0</td></tr>\n",
       "\t<tr><td>2016-08-01</td><td>C_ID_d639edf6cd</td><td>2</td><td>2</td><td>0</td><td> 0.6880560</td><td>2016</td><td> 8</td><td>549</td><td> -2.057205</td><td>⋯</td><td>0</td><td>0</td><td>0</td><td>0</td><td>0</td><td>0</td><td>0</td><td>0</td><td>0</td><td>0</td></tr>\n",
       "\t<tr><td>2017-09-01</td><td>C_ID_186d6a6901</td><td>4</td><td>3</td><td>0</td><td> 0.1424952</td><td>2017</td><td> 9</td><td>153</td><td> -4.995338</td><td>⋯</td><td>0</td><td>0</td><td>0</td><td>0</td><td>0</td><td>0</td><td>0</td><td>0</td><td>0</td><td>0</td></tr>\n",
       "\t<tr><td>2017-11-01</td><td>C_ID_cdbd2c0db2</td><td>1</td><td>3</td><td>0</td><td>-0.1597492</td><td>2017</td><td>11</td><td> 92</td><td> -8.336574</td><td>⋯</td><td>5</td><td>1</td><td>0</td><td>0</td><td>2</td><td>3</td><td>0</td><td>0</td><td>5</td><td>1</td></tr>\n",
       "\t<tr><td>2016-09-01</td><td>C_ID_0894217f2f</td><td>4</td><td>2</td><td>0</td><td> 0.8715853</td><td>2016</td><td> 9</td><td>518</td><td> -2.049541</td><td>⋯</td><td>1</td><td>0</td><td>1</td><td>0</td><td>0</td><td>0</td><td>0</td><td>0</td><td>0</td><td>1</td></tr>\n",
       "</tbody>\n",
       "</table>\n"
      ],
      "text/latex": [
       "A tibble: 6 × 116\n",
       "\\begin{tabular}{lllllllllllllllllllll}\n",
       " first\\_active\\_month & card\\_id & feature\\_1 & feature\\_2 & feature\\_3 & target & year & month & howlong & purchase\\_amount\\_sum & ⋯ & new\\_N & new\\_Y & new1 & new2 & new3 & new4 & new5 & new\\_A & new\\_B & new\\_C\\\\\n",
       " <date> & <chr> & <dbl> & <dbl> & <dbl> & <dbl> & <dbl> & <dbl> & <int> & <dbl> & ⋯ & <int> & <int> & <int> & <int> & <int> & <int> & <int> & <int> & <int> & <int>\\\\\n",
       "\\hline\n",
       "\t 2017-06-01 & C\\_ID\\_92a2005557 & 5 & 2 & 1 & -0.8202826 & 2017 &  6 & 245 & -14.628745 & ⋯ & 2 & 0 & 2 & 0 & 0 & 0 & 0 & 2 & 0 & 0\\\\\n",
       "\t 2017-01-01 & C\\_ID\\_3d0044924f & 4 & 1 & 0 &  0.3929132 & 2017 &  1 & 396 & -18.333276 & ⋯ & 0 & 0 & 0 & 0 & 0 & 0 & 0 & 0 & 0 & 0\\\\\n",
       "\t 2016-08-01 & C\\_ID\\_d639edf6cd & 2 & 2 & 0 &  0.6880560 & 2016 &  8 & 549 &  -2.057205 & ⋯ & 0 & 0 & 0 & 0 & 0 & 0 & 0 & 0 & 0 & 0\\\\\n",
       "\t 2017-09-01 & C\\_ID\\_186d6a6901 & 4 & 3 & 0 &  0.1424952 & 2017 &  9 & 153 &  -4.995338 & ⋯ & 0 & 0 & 0 & 0 & 0 & 0 & 0 & 0 & 0 & 0\\\\\n",
       "\t 2017-11-01 & C\\_ID\\_cdbd2c0db2 & 1 & 3 & 0 & -0.1597492 & 2017 & 11 &  92 &  -8.336574 & ⋯ & 5 & 1 & 0 & 0 & 2 & 3 & 0 & 0 & 5 & 1\\\\\n",
       "\t 2016-09-01 & C\\_ID\\_0894217f2f & 4 & 2 & 0 &  0.8715853 & 2016 &  9 & 518 &  -2.049541 & ⋯ & 1 & 0 & 1 & 0 & 0 & 0 & 0 & 0 & 0 & 1\\\\\n",
       "\\end{tabular}\n"
      ],
      "text/markdown": [
       "\n",
       "A tibble: 6 × 116\n",
       "\n",
       "| first_active_month &lt;date&gt; | card_id &lt;chr&gt; | feature_1 &lt;dbl&gt; | feature_2 &lt;dbl&gt; | feature_3 &lt;dbl&gt; | target &lt;dbl&gt; | year &lt;dbl&gt; | month &lt;dbl&gt; | howlong &lt;int&gt; | purchase_amount_sum &lt;dbl&gt; | ⋯ ⋯ | new_N &lt;int&gt; | new_Y &lt;int&gt; | new1 &lt;int&gt; | new2 &lt;int&gt; | new3 &lt;int&gt; | new4 &lt;int&gt; | new5 &lt;int&gt; | new_A &lt;int&gt; | new_B &lt;int&gt; | new_C &lt;int&gt; |\n",
       "|---|---|---|---|---|---|---|---|---|---|---|---|---|---|---|---|---|---|---|---|---|\n",
       "| 2017-06-01 | C_ID_92a2005557 | 5 | 2 | 1 | -0.8202826 | 2017 |  6 | 245 | -14.628745 | ⋯ | 2 | 0 | 2 | 0 | 0 | 0 | 0 | 2 | 0 | 0 |\n",
       "| 2017-01-01 | C_ID_3d0044924f | 4 | 1 | 0 |  0.3929132 | 2017 |  1 | 396 | -18.333276 | ⋯ | 0 | 0 | 0 | 0 | 0 | 0 | 0 | 0 | 0 | 0 |\n",
       "| 2016-08-01 | C_ID_d639edf6cd | 2 | 2 | 0 |  0.6880560 | 2016 |  8 | 549 |  -2.057205 | ⋯ | 0 | 0 | 0 | 0 | 0 | 0 | 0 | 0 | 0 | 0 |\n",
       "| 2017-09-01 | C_ID_186d6a6901 | 4 | 3 | 0 |  0.1424952 | 2017 |  9 | 153 |  -4.995338 | ⋯ | 0 | 0 | 0 | 0 | 0 | 0 | 0 | 0 | 0 | 0 |\n",
       "| 2017-11-01 | C_ID_cdbd2c0db2 | 1 | 3 | 0 | -0.1597492 | 2017 | 11 |  92 |  -8.336574 | ⋯ | 5 | 1 | 0 | 0 | 2 | 3 | 0 | 0 | 5 | 1 |\n",
       "| 2016-09-01 | C_ID_0894217f2f | 4 | 2 | 0 |  0.8715853 | 2016 |  9 | 518 |  -2.049541 | ⋯ | 1 | 0 | 1 | 0 | 0 | 0 | 0 | 0 | 0 | 1 |\n",
       "\n"
      ],
      "text/plain": [
       "  first_active_month card_id         feature_1 feature_2 feature_3 target    \n",
       "1 2017-06-01         C_ID_92a2005557 5         2         1         -0.8202826\n",
       "2 2017-01-01         C_ID_3d0044924f 4         1         0          0.3929132\n",
       "3 2016-08-01         C_ID_d639edf6cd 2         2         0          0.6880560\n",
       "4 2017-09-01         C_ID_186d6a6901 4         3         0          0.1424952\n",
       "5 2017-11-01         C_ID_cdbd2c0db2 1         3         0         -0.1597492\n",
       "6 2016-09-01         C_ID_0894217f2f 4         2         0          0.8715853\n",
       "  year month howlong purchase_amount_sum ⋯ new_N new_Y new1 new2 new3 new4 new5\n",
       "1 2017  6    245     -14.628745          ⋯ 2     0     2    0    0    0    0   \n",
       "2 2017  1    396     -18.333276          ⋯ 0     0     0    0    0    0    0   \n",
       "3 2016  8    549      -2.057205          ⋯ 0     0     0    0    0    0    0   \n",
       "4 2017  9    153      -4.995338          ⋯ 0     0     0    0    0    0    0   \n",
       "5 2017 11     92      -8.336574          ⋯ 5     1     0    0    2    3    0   \n",
       "6 2016  9    518      -2.049541          ⋯ 1     0     1    0    0    0    0   \n",
       "  new_A new_B new_C\n",
       "1 2     0     0    \n",
       "2 0     0     0    \n",
       "3 0     0     0    \n",
       "4 0     0     0    \n",
       "5 0     5     1    \n",
       "6 0     0     1    "
      ]
     },
     "metadata": {},
     "output_type": "display_data"
    },
    {
     "data": {
      "text/html": [
       "<style>\n",
       ".list-inline {list-style: none; margin:0; padding: 0}\n",
       ".list-inline>li {display: inline-block}\n",
       ".list-inline>li:not(:last-child)::after {content: \"\\00b7\"; padding: 0 .5ex}\n",
       "</style>\n",
       "<ol class=list-inline><li>199710</li><li>116</li></ol>\n"
      ],
      "text/latex": [
       "\\begin{enumerate*}\n",
       "\\item 199710\n",
       "\\item 116\n",
       "\\end{enumerate*}\n"
      ],
      "text/markdown": [
       "1. 199710\n",
       "2. 116\n",
       "\n",
       "\n"
      ],
      "text/plain": [
       "[1] 199710    116"
      ]
     },
     "metadata": {},
     "output_type": "display_data"
    }
   ],
   "source": [
    "train_data <- train %>% \n",
    "        mutate(first_active_month = ymd(first_active_month, truncated = 1),\n",
    "               year = year(first_active_month),\n",
    "               month = month(first_active_month),\n",
    "               howlong = as.integer(ymd(\"2018-02-01\") - first_active_month)) %>%\n",
    "        left_join(hist_summary, by=\"card_id\") %>%\n",
    "        left_join(new_summary,by=\"card_id\",suffix = c(\"\", \"_new\"))\n",
    "\n",
    "head(train_data)\n",
    "\n",
    "# fill 0 to NA \n",
    "train_data[is.na(train_data)] <- 0\n",
    "head(train_data)\n",
    "dim(train_data)"
   ]
  },
  {
   "cell_type": "markdown",
   "id": "otherwise-calendar",
   "metadata": {},
   "source": [
    "## Create train/test dataset"
   ]
  },
  {
   "cell_type": "code",
   "execution_count": 17,
   "id": "headed-martial",
   "metadata": {},
   "outputs": [],
   "source": [
    "data <- train_data[,-c(1,2)] # Remove first_active_month and card_id\n",
    "\n",
    "set.seed(1)\n",
    "divideData<-createDataPartition(data$target, p=.8, list=FALSE)\n",
    "\n",
    "data <- data[divideData,]\n",
    "test.final <- data[-divideData,]\n",
    "\n",
    "data_train_final <- as.matrix(data[,-4])\n",
    "dtrain_final <- xgb.DMatrix(data = data_train_final, label = data$target)\n",
    "\n",
    "data_test_final <- as.matrix(test.final[,-4])\n",
    "dtest_final <- xgb.DMatrix(data = data_test_final)"
   ]
  },
  {
   "cell_type": "markdown",
   "id": "unexpected-wilderness",
   "metadata": {},
   "source": [
    "## Train XGBoost model"
   ]
  },
  {
   "cell_type": "code",
   "execution_count": 18,
   "id": "social-violence",
   "metadata": {},
   "outputs": [],
   "source": [
    "params <- list(objective = \"reg:linear\",\n",
    "               booster = \"gbtree\",\n",
    "               eval_metric = \"rmse\",\n",
    "               nthread = 4,\n",
    "               eta = 0.01,\n",
    "               max_depth = 8,\n",
    "               min_child_weight = 5,\n",
    "               gamma = 1,\n",
    "               subsample = 0.8,\n",
    "               colsample_bytree = 0.7,\n",
    "               colsample_bylevel = 0.6,\n",
    "               alpha = 0.1,\n",
    "               lambda = 5)"
   ]
  },
  {
   "cell_type": "code",
   "execution_count": 19,
   "id": "thousand-diana",
   "metadata": {},
   "outputs": [
    {
     "name": "stdout",
     "output_type": "stream",
     "text": [
      "[16:06:20] WARNING: amalgamation/../src/objective/regression_obj.cu:170: reg:linear is now deprecated in favor of reg:squarederror.\n",
      "[1]\ttrain-rmse:1.789764 \n",
      "Will train until train_rmse hasn't improved in 50 rounds.\n",
      "\n",
      "[51]\ttrain-rmse:1.718020 \n",
      "[101]\ttrain-rmse:1.686312 \n",
      "[150]\ttrain-rmse:1.670751 \n"
     ]
    }
   ],
   "source": [
    "xgb_model <- xgboost(params = params, \n",
    "                     data=dtrain_final, \n",
    "                     nrounds = 150, \n",
    "                     print_every_n = 50, \n",
    "                     early_stopping_rounds = 50)"
   ]
  },
  {
   "cell_type": "code",
   "execution_count": 20,
   "id": "vietnamese-index",
   "metadata": {},
   "outputs": [
    {
     "name": "stdout",
     "output_type": "stream",
     "text": [
      "Test RMSE: 1.680111"
     ]
    },
    {
     "data": {
      "text/html": [
       "<table class=\"dataframe\">\n",
       "<caption>A matrix: 6 × 2 of type chr</caption>\n",
       "<thead>\n",
       "\t<tr><th scope=col>actual</th><th scope=col>predicted</th></tr>\n",
       "</thead>\n",
       "<tbody>\n",
       "\t<tr><td>-0.15974919</td><td>-0.193341150880</td></tr>\n",
       "\t<tr><td>-1.02956173</td><td> 0.044553041458</td></tr>\n",
       "\t<tr><td>4.74760223 </td><td> 0.344445437193</td></tr>\n",
       "\t<tr><td>-0.09074446</td><td> 0.032697375864</td></tr>\n",
       "\t<tr><td>-1.36171997</td><td> 0.242008909583</td></tr>\n",
       "\t<tr><td>-4.73077842</td><td>-0.006587007549</td></tr>\n",
       "</tbody>\n",
       "</table>\n"
      ],
      "text/latex": [
       "A matrix: 6 × 2 of type chr\n",
       "\\begin{tabular}{ll}\n",
       " actual & predicted\\\\\n",
       "\\hline\n",
       "\t -0.15974919 & -0.193341150880\\\\\n",
       "\t -1.02956173 &  0.044553041458\\\\\n",
       "\t 4.74760223  &  0.344445437193\\\\\n",
       "\t -0.09074446 &  0.032697375864\\\\\n",
       "\t -1.36171997 &  0.242008909583\\\\\n",
       "\t -4.73077842 & -0.006587007549\\\\\n",
       "\\end{tabular}\n"
      ],
      "text/markdown": [
       "\n",
       "A matrix: 6 × 2 of type chr\n",
       "\n",
       "| actual | predicted |\n",
       "|---|---|\n",
       "| -0.15974919 | -0.193341150880 |\n",
       "| -1.02956173 |  0.044553041458 |\n",
       "| 4.74760223  |  0.344445437193 |\n",
       "| -0.09074446 |  0.032697375864 |\n",
       "| -1.36171997 |  0.242008909583 |\n",
       "| -4.73077842 | -0.006587007549 |\n",
       "\n"
      ],
      "text/plain": [
       "     actual      predicted      \n",
       "[1,] -0.15974919 -0.193341150880\n",
       "[2,] -1.02956173  0.044553041458\n",
       "[3,] 4.74760223   0.344445437193\n",
       "[4,] -0.09074446  0.032697375864\n",
       "[5,] -1.36171997  0.242008909583\n",
       "[6,] -4.73077842 -0.006587007549"
      ]
     },
     "metadata": {},
     "output_type": "display_data"
    }
   ],
   "source": [
    "yhat.boost <- predict(xgb_model, newdata = dtest_final, n.trees=500)\n",
    "rmse <- sqrt(mean((yhat.boost-test.final$target)^2))\n",
    "cat(\"Test RMSE:\",rmse)\n",
    "r <- cbind(actual= test.final$target, predicted = format(yhat.boost, scientific=F))\n",
    "head(r)"
   ]
  },
  {
   "cell_type": "code",
   "execution_count": 21,
   "id": "ready-skirt",
   "metadata": {},
   "outputs": [
    {
     "data": {
      "image/png": "[encoded data removed]",
      "text/plain": [
       "plot without title"
      ]
     },
     "metadata": {
      "image/png": {
       "height": 420,
       "width": 420
      }
     },
     "output_type": "display_data"
    }
   ],
   "source": [
    "plot(r)"
   ]
  },
  {
   "cell_type": "code",
   "execution_count": null,
   "id": "outdoor-cosmetic",
   "metadata": {},
   "outputs": [],
   "source": []
  }
 ],
 "metadata": {
  "kernelspec": {
   "display_name": "R",
   "language": "R",
   "name": "ir"
  },
  "language_info": {
   "codemirror_mode": "r",
   "file_extension": ".r",
   "mimetype": "text/x-r-source",
   "name": "R",
   "pygments_lexer": "r",
   "version": "4.0.3"
  }
 },
 "nbformat": 4,
 "nbformat_minor": 5
}
